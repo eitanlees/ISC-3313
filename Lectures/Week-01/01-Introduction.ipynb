{
 "cells": [
  {
   "cell_type": "markdown",
   "metadata": {
    "slideshow": {
     "slide_type": "subslide"
    }
   },
   "source": [
    "# ISC 3313: Introduction to Scientific Computing\n",
    "<div align=\"center\"><img src=\"https://raw.githubusercontent.com/eitanlees/ISC-3313/master/images/Babbage_difference_engine_drawing.gif\" width=\"300\" /></div>"
   ]
  },
  {
   "cell_type": "markdown",
   "metadata": {
    "slideshow": {
     "slide_type": "subslide"
    }
   },
   "source": [
    "## Instructor Information\n",
    "\n",
    "- Name: Eitan Lees\n",
    "- Email: elees@fsu.edu\n",
    "- Office: DSL 492A\n",
    "- Office Hours: by appointment (please email)"
   ]
  },
  {
   "cell_type": "markdown",
   "metadata": {
    "slideshow": {
     "slide_type": "subslide"
    }
   },
   "source": [
    "## Course Outline\n",
    "The goal of this course is to build a computational foundation for scientific exploration. Computers have become an integral part of all scientific disciplines. The course will be broken down into four modules\n",
    "\n",
    "- Python Fundamentals\n",
    "- Beyond Basic Python\n",
    "- Advanced Python\n",
    "- Scientific Python"
   ]
  },
  {
   "cell_type": "markdown",
   "metadata": {
    "slideshow": {
     "slide_type": "subslide"
    }
   },
   "source": [
    "## Text Books\n",
    "All of the resources used for this course are available online for free. \n",
    "\n",
    "Two sources which will be used extensively are:\n",
    "- [A Whirlwind Tour of Python](https://jakevdp.github.io/WhirlwindTourOfPython/) by Jake VanderPlas\n",
    "- [Object-Oriented Programming in Python](http://cs.slu.edu/~goldwamh/oopp/) by Michael H. Goldwasser and David Letscher \n",
    "\n",
    "VanderPlas will get us up and running with python fundamentals and Goldwasser/Letscher will introduce advanced methods"
   ]
  },
  {
   "cell_type": "markdown",
   "metadata": {
    "slideshow": {
     "slide_type": "subslide"
    }
   },
   "source": [
    "## Grading\n",
    "\n",
    "The following grade structure will be used:\n",
    "\n",
    "- Assignments: 50%\n",
    "- Capstone final project: 40%\n",
    "- Participation: 10%"
   ]
  },
  {
   "cell_type": "markdown",
   "metadata": {
    "slideshow": {
     "slide_type": "subslide"
    }
   },
   "source": [
    "## Assignments\n",
    "\n",
    "Homeworks will be assigned on a roughly 2 week basis. Many lectures will also include examples for you to complete. \n",
    "\n",
    "All assignments will be given out as *Jupyter Notebooks*. As we'll see these notebooks will give you specific instructions. \n",
    "\n",
    "Each assignment will be due one week after it is handed out. Once you have completed the assignment please upload it to canvas."
   ]
  },
  {
   "cell_type": "markdown",
   "metadata": {
    "slideshow": {
     "slide_type": "subslide"
    }
   },
   "source": [
    "## Final Project\n",
    "\n",
    "The final project has 3 components:\n",
    "\n",
    "1. **Write a proposal** for what you want to do. E-mail me on or before June 19th with a 200 word outline for your project. Feel free to ask me for ideas or suggestions.\n",
    "2. **Write a report** that follows the standard scientific guideline of presenting your work (introduction, methods, results, discussion, references). Again ask me for help if you need it.\n",
    "3. **Present your work** during the last class. This doesn't have to be a long presentation; no longer than 5 minutes."
   ]
  },
  {
   "cell_type": "markdown",
   "metadata": {
    "slideshow": {
     "slide_type": "slide"
    }
   },
   "source": [
    "## What is Scientific Computing?\n",
    "\n",
    "* Using computers to solve scientific problems\n",
    "* How does this relate to Computer Science?\n",
    "    + Computer Science creates tools, Scientific Computing uses them\n",
    "    + NASA $\\Rightarrow$ Scientific Computing, Microsoft $\\Rightarrow$ Computer Science"
   ]
  },
  {
   "cell_type": "markdown",
   "metadata": {
    "slideshow": {
     "slide_type": "subslide"
    }
   },
   "source": [
    "## What kind of problems can we solve?\n",
    "\n",
    "Any problem related to science or engineering that is too difficult to do by hand.  \n",
    "\n",
    "For example:\n",
    "* Genomic analysis - How closely are 2 species related?\n",
    "* Astrophysics - What causes a supernova?\n",
    "* Anthropology - Can we estimate the age of someone's death by looking at their bones?\n",
    "\n",
    "Computers are becoming necessary is almost all scientific disciplines."
   ]
  },
  {
   "cell_type": "markdown",
   "metadata": {
    "slideshow": {
     "slide_type": "subslide"
    }
   },
   "source": [
    "In particular in this class we will be interested in the following building the foundations needed to tackle advanced questions. \n",
    "\n",
    "Topics covered will include:\n",
    "- Numerical differentiation/integration\n",
    "- Solving an ordinary differential equations and nonlinear systems\n",
    "- Optimization \n",
    "- Data visualization \n",
    "\n",
    "Most of all we will be interested in learning how to program an algorithm. That is, given a set of instructions, how to turn the instructions into code."
   ]
  },
  {
   "cell_type": "markdown",
   "metadata": {
    "slideshow": {
     "slide_type": "slide"
    }
   },
   "source": [
    "## Why Python?"
   ]
  },
  {
   "cell_type": "markdown",
   "metadata": {
    "slideshow": {
     "slide_type": "fragment"
    }
   },
   "source": [
    "* High level computer language - in general easier to learn\n",
    "* Object oriented \n",
    "* Great for scientific computing\n",
    "* Popular in both industry and academia\n",
    "* Open Source"
   ]
  },
  {
   "cell_type": "markdown",
   "metadata": {
    "slideshow": {
     "slide_type": "subslide"
    }
   },
   "source": [
    "<div align=\"center\"><img src=\"https://raw.githubusercontent.com/eitanlees/ISC-3313/master/images/scipy-eco.png\" width=\"900\" /></div>"
   ]
  },
  {
   "cell_type": "markdown",
   "metadata": {
    "slideshow": {
     "slide_type": "subslide"
    }
   },
   "source": [
    "<div align=\"center\"><img src=\"https://raw.githubusercontent.com/eitanlees/ISC-3313/master/images/python_growth.png\" width=\"800\" /></div>"
   ]
  },
  {
   "cell_type": "markdown",
   "metadata": {
    "slideshow": {
     "slide_type": "slide"
    }
   },
   "source": [
    "## Python 2 vs Python 3\n",
    "\n",
    "Python is under active development as as a result different versions are available. \n",
    "\n",
    "- **Python 2**: \n",
    "    - Old python scripts in the wild might created with python 2\n",
    "    - [Python 2.7 will not be maintained past 2020](https://pythonclock.org/). \n",
    "- **Python 3**:\n",
    "    - Released in 2008 and is the new standard. All major scientific packages should be python 3 compatible. \n",
    "    - In this course I will be using Python 3.6"
   ]
  },
  {
   "cell_type": "markdown",
   "metadata": {
    "slideshow": {
     "slide_type": "subslide"
    }
   },
   "source": [
    "The vast majority of code snippets in this course will also work without modification in Python 2. \n",
    "\n",
    "In cases where a Python 2 incompatible syntax is used, I will try note it explicitly.\n",
    "\n",
    "The most common incompatibility is with the `print` statement."
   ]
  },
  {
   "cell_type": "code",
   "execution_count": 2,
   "metadata": {
    "slideshow": {
     "slide_type": "fragment"
    }
   },
   "outputs": [
    {
     "name": "stdout",
     "output_type": "stream",
     "text": [
      "hello World\n"
     ]
    }
   ],
   "source": [
    "print (\"hello World\")"
   ]
  },
  {
   "cell_type": "markdown",
   "metadata": {
    "slideshow": {
     "slide_type": "slide"
    }
   },
   "source": [
    "## Installation\n",
    "\n",
    "Let's try to install python! \n",
    "\n",
    "For this course I recommend installing `miniconda` distributed by Anaconda, Inc\n",
    "- https://conda.io/miniconda.html\n",
    "\n",
    "For detailed instructions try (substitute 3.5 with 3.6):\n",
    "- [Install On Windows](https://www.cs.rpi.edu/academics/courses/fall16/cs1/python_environment/windows_install.html)\n",
    "- [Install On Mac OS X](https://www.cs.rpi.edu/academics/courses/fall16/cs1/python_environment/mac_install.html)\n",
    "- [\n",
    "Install On Linux](https://www.cs.rpi.edu/academics/courses/fall16/cs1/python_environment/linux_install.html)\n",
    "\n",
    "To test your installation, in your Terminal window or Anaconda Prompt, run the command `conda list`."
   ]
  },
  {
   "cell_type": "markdown",
   "metadata": {
    "slideshow": {
     "slide_type": "subslide"
    }
   },
   "source": [
    "Assuming everything has gone according to plan (usually it doesn't) you should now have python! \n",
    "\n",
    "In the same terminal run the command `python` and you should see something like \n",
    "\n",
    "<div align=\"center\"><img src=\"https://raw.githubusercontent.com/eitanlees/ISC-3313/master/images/python_prompt.png\" width=\"900\" /></div>\n",
    "\n",
    "You are now running Python! \n",
    "\n",
    "Try typing `a = 1` (enter) `b = 2` (enter) `a + b` (enter).  \n",
    "\n",
    "You can type `exit()` to quit the interactive session and go back to the terminal."
   ]
  },
  {
   "cell_type": "markdown",
   "metadata": {
    "slideshow": {
     "slide_type": "slide"
    }
   },
   "source": [
    "## Terminal Commands\n",
    "\n",
    "Before going forward we should discuss a few terminal commands\n",
    "\n",
    "The terminal/command prompt has lots of commands. For this class it suffices to familarize yourself with the following list:\n",
    "\n",
    "Command: Linux/OSX (Windows)\n",
    "- Display current directory: `pwd`  (`cd`)\n",
    "- List contents of directory: `ls` (`dir`)\n",
    "- Change directory: `cd <path>` (`cd <path>`)\n",
    "- Make directory: `mkdir <name>` (`mkdir <name>`)\n"
   ]
  },
  {
   "cell_type": "markdown",
   "metadata": {
    "slideshow": {
     "slide_type": "subslide"
    }
   },
   "source": [
    "Let's get some terminal practice \n",
    "\n",
    "1. Open a new terminal window and list the directories\n",
    "2. Change into the Desktop directory\n",
    "3. Create a directory called `ISC-3313`\n",
    "4. Change into the new `ISC-3313` directory"
   ]
  },
  {
   "cell_type": "markdown",
   "metadata": {
    "slideshow": {
     "slide_type": "slide"
    }
   },
   "source": [
    "## How to run code\n",
    "\n",
    "There are three major ways to run python code\n",
    "\n",
    "- Using the python interpreter\n",
    "- Running python scripts\n",
    "- Using jupyter notebook\n",
    "\n",
    "Depending on the task people will often use multiple of these methods."
   ]
  },
  {
   "cell_type": "markdown",
   "metadata": {
    "slideshow": {
     "slide_type": "subslide"
    }
   },
   "source": [
    "## The Python Interpreter\n",
    "\n",
    "The most basic way to execute Python code is line by line within the *Python interpreter*.\n",
    "\n",
    "``` python\n",
    ">>> 1 + 1\n",
    "2\n",
    ">>> x = 5\n",
    ">>> x * 3\n",
    "15\n",
    "```\n",
    "\n",
    "The interpreter makes it very convenient to try out small snippets of Python code and to experiment with short sequences of operations."
   ]
  },
  {
   "cell_type": "markdown",
   "metadata": {
    "slideshow": {
     "slide_type": "subslide"
    }
   },
   "source": [
    "## Python Scripts\n",
    "\n",
    "Running Python snippets line by line is useful in some cases, but for more complicated programs it is more convenient to save code to file, and execute it all at once.By convention, Python scripts are saved in files with a *.py* extension.\n",
    "\n",
    "Download ([link](https://raw.githubusercontent.com/eitanlees/ISC-3313/master/first_script.py)) and try to run the file `first_script.py`. Make sure it is in the current directory and type ``python`` *``filename``* at the command prompt:\n",
    "```\n",
    "$ python first_script.py\n",
    "```\n",
    "For more complicated programs, creating self-contained scripts like this one is a must."
   ]
  },
  {
   "cell_type": "markdown",
   "metadata": {
    "slideshow": {
     "slide_type": "slide"
    }
   },
   "source": [
    "## Project Jupyter\n",
    "\n",
    "<div align=\"center\"><img src=\"https://raw.githubusercontent.com/eitanlees/ISC-3313/master/images/jupyter-logo.png\" width=\"500\" /></div>"
   ]
  },
  {
   "cell_type": "markdown",
   "metadata": {
    "slideshow": {
     "slide_type": "subslide"
    }
   },
   "source": [
    "## Jupyter Notebooks\n",
    "\n",
    "A useful hybrid of the interactive terminal and the self-contained script is the *Jupyter notebook*, a document format that allows executable code, formatted text, graphics, and even interactive features to be combined into a single document.\n",
    "\n",
    "To install the jupyter package run the command in your terminal\n",
    "\n",
    "```bash\n",
    "conda install jupyter\n",
    "```\n",
    "\n",
    "You will be asked to confirm the installation, just hit enter\n",
    "\n",
    "We will discuss `conda` later"
   ]
  },
  {
   "cell_type": "markdown",
   "metadata": {
    "slideshow": {
     "slide_type": "subslide"
    }
   },
   "source": [
    "This course will be taught primarily through jupyter notebooks. All the lectures are written in the notebook format and you are encouraged to run the examples yourself. \n",
    "\n",
    "All homeworks will also be in notebook format. You will be given a notebook with questions and partial code and you are expected to fill in the missing pieces. "
   ]
  },
  {
   "cell_type": "markdown",
   "metadata": {
    "slideshow": {
     "slide_type": "slide"
    }
   },
   "source": [
    "## Starting Jupyter Notebook\n",
    "\n",
    "To run the notebook server locally run the command\n",
    "```\n",
    "jupyter notebook\n",
    "```\n",
    "And you should see something like this\n",
    "\n",
    "<div align=\"center\"><img src=\"https://raw.githubusercontent.com/eitanlees/ISC-3313/master/images/starting_jupyter.gif\" width=\"600\" /></div>"
   ]
  },
  {
   "cell_type": "markdown",
   "metadata": {
    "slideshow": {
     "slide_type": "subslide"
    }
   },
   "source": [
    "Navigate to the `ISC-3313` folder you created earlier. \n",
    "\n",
    "Click on the `New` button and then select Python 3 to create your first notebook. \n",
    "\n",
    "<div align=\"center\"><img src=\"https://raw.githubusercontent.com/eitanlees/ISC-3313/master/images/opening_notebook.gif\" width=\"900\" /></div>"
   ]
  },
  {
   "cell_type": "markdown",
   "metadata": {
    "slideshow": {
     "slide_type": "subslide"
    }
   },
   "source": [
    "Code cells are run by hitting ``<shift> + <enter>``\n",
    "\n",
    "<div align=\"center\"><img src=\"https://raw.githubusercontent.com/eitanlees/ISC-3313/master/images/simple_notebook_commands.gif\" width=\"900\" /></div>"
   ]
  },
  {
   "cell_type": "markdown",
   "metadata": {
    "slideshow": {
     "slide_type": "subslide"
    }
   },
   "source": [
    "Give the notebook a new name\n",
    "\n",
    "<div align=\"center\"><img src=\"https://raw.githubusercontent.com/eitanlees/ISC-3313/master/images/rename_notebook.gif\" width=\"900\" /></div>"
   ]
  },
  {
   "cell_type": "markdown",
   "metadata": {
    "slideshow": {
     "slide_type": "slide"
    }
   },
   "source": [
    "## Markdown\n",
    "\n",
    "*Markdown* is a writing format that makes it easy to type formatted text. \n",
    "\n",
    "Cells in Jupyter can be used for code or to write text in markdown. \n",
    "\n",
    "This lets us write notes that explain what we are doing and will be required for homeworks. "
   ]
  },
  {
   "cell_type": "markdown",
   "metadata": {
    "slideshow": {
     "slide_type": "subslide"
    }
   },
   "source": [
    "To create a markdown cell, click on an empty cell and then click on the dropbown box at the top of the page (by default in says \"Code\") and select \"Markdown\".\n",
    "\n",
    "<div align=\"center\"><img src=\"https://raw.githubusercontent.com/eitanlees/ISC-3313/master/images/markdown_example.gif\" width=\"900\" /></div>"
   ]
  },
  {
   "cell_type": "markdown",
   "metadata": {
    "slideshow": {
     "slide_type": "subslide"
    }
   },
   "source": [
    "For a full markdown tutorial checkout \n",
    "\n",
    "https://www.markdowntutorial.com/"
   ]
  }
 ],
 "metadata": {
  "celltoolbar": "Slideshow",
  "kernelspec": {
   "display_name": "Python 3",
   "language": "python",
   "name": "python3"
  },
  "language_info": {
   "codemirror_mode": {
    "name": "ipython",
    "version": 3
   },
   "file_extension": ".py",
   "mimetype": "text/x-python",
   "name": "python",
   "nbconvert_exporter": "python",
   "pygments_lexer": "ipython3",
   "version": "3.6.5"
  }
 },
 "nbformat": 4,
 "nbformat_minor": 2
}
