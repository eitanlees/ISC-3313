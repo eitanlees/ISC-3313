{
 "cells": [
  {
   "cell_type": "markdown",
   "metadata": {},
   "source": [
    "## Inclass Exercies for Lecture 14"
   ]
  },
  {
   "cell_type": "markdown",
   "metadata": {},
   "source": [
    "## Exercise 1"
   ]
  },
  {
   "cell_type": "code",
   "execution_count": 22,
   "metadata": {},
   "outputs": [],
   "source": [
    "class Fraction:\n",
    "    def __init__(self, numerator = 1, denominator = 1):\n",
    "        \n",
    "        if denominator == 0 or numerator == 0:\n",
    "            self.top = 0\n",
    "            self.bottom = 0\n",
    "            \n",
    "        else:\n",
    "            # Compute the GCD\n",
    "            factor = self._gcd(abs(numerator), abs(denominator))\n",
    "            \n",
    "            # Check if negative\n",
    "            if denominator < 0:\n",
    "                factor = -factor\n",
    "            \n",
    "            # Reduce Fraction\n",
    "            self.top = numerator // factor\n",
    "            self.bottom = denominator // factor\n",
    "    \n",
    "    def _gcd(self, u, v):\n",
    "        while v != 0:\n",
    "            r = u % v\n",
    "            u = v\n",
    "            v = r \n",
    "        return u\n",
    "    \n",
    "    def __str__(self): \n",
    "        return str(self.top) + \"/\" + str(self.bottom)\n",
    "    \n",
    "    def __float__(self):\n",
    "        return self.top/self.bottom\n",
    "    \n",
    "    def __add__(self, other):\n",
    "        return Fraction(self.top * other.bottom + self.bottom * other.top, self.bottom * other.bottom)\n",
    "    \n",
    "    def __sub__(self, other):\n",
    "        return Fraction(self.top * other.bottom - self.bottom * other.top, self.bottom * other.bottom)\n",
    "    \n",
    "    def __mul__(self, other):\n",
    "        return Fraction(self.top * other.top, self.bottom * other.bottom)\n",
    "    \n",
    "    def __truediv__(self, other):\n",
    "        return Fraction(self.top * other.bottom, self.bottom * other.top)\n",
    "\n",
    "    def __eq__(self, other):\n",
    "        return (self.top == other.top) and (self.bottom == other.bottom)\n",
    "    \n",
    "    def __lt__(self, other):\n",
    "        return float(self) < float(other)\n",
    "    \n",
    "    def __neg__(self):\n",
    "        return Fraction(-1*self.top, self.bottom)\n",
    "    \n",
    "    def __abs__(self):\n",
    "        return Fraction(abs(self.top), abs(self.bottom))"
   ]
  },
  {
   "cell_type": "code",
   "execution_count": 24,
   "metadata": {
    "slideshow": {
     "slide_type": "subslide"
    }
   },
   "outputs": [
    {
     "name": "stdout",
     "output_type": "stream",
     "text": [
      "14/15\n",
      "-34/15\n",
      "-16/15\n",
      "-5/12\n",
      "False\n",
      "True\n"
     ]
    }
   ],
   "source": [
    "f1 = Fraction(-2,3)\n",
    "f2 = Fraction(8,5)\n",
    "\n",
    "print(f1 + f2)\n",
    "print(f1 - f2)\n",
    "print(f1 * f2)\n",
    "print(f1 / f2)\n",
    "\n",
    "print(f1 > f2)\n",
    "print(f1 != f2)"
   ]
  },
  {
   "cell_type": "markdown",
   "metadata": {},
   "source": [
    "## Exercise Two"
   ]
  },
  {
   "cell_type": "code",
   "execution_count": 27,
   "metadata": {},
   "outputs": [],
   "source": [
    "class Television():\n",
    "    def __init__(self, powerOn, muted, volume, channel):\n",
    "        self.powerOn = powerOn\n",
    "        self.muted = muted\n",
    "        self.volume = volume\n",
    "        self.channel = channel\n",
    "    \n",
    "    def togglePower(self):\n",
    "        self.powerOn = not(self.powerOn)\n",
    "    \n",
    "    def toggleMute(self):\n",
    "        self.muted = not(self.muted)\n",
    "    \n",
    "    def volumeUp(self):\n",
    "        self.volume += 1\n",
    "        \n",
    "    def volumeDown(self):\n",
    "        self.volume -= 1\n",
    "        \n",
    "    def changeChannel(self, channel):\n",
    "        self.channel = channel"
   ]
  },
  {
   "cell_type": "code",
   "execution_count": 46,
   "metadata": {},
   "outputs": [],
   "source": [
    "t1 = Television(False, False, 10, 25)"
   ]
  },
  {
   "cell_type": "code",
   "execution_count": 47,
   "metadata": {},
   "outputs": [
    {
     "name": "stdout",
     "output_type": "stream",
     "text": [
      "Power Status: False\n",
      "Mute Status: False\n",
      "Volume: 10\n",
      "Channel: 25\n"
     ]
    }
   ],
   "source": [
    "print(f\"Power Status: {t1.powerOn}\")\n",
    "print(f\"Mute Status: {t1.muted}\")\n",
    "print(f\"Volume: {t1.volume}\")\n",
    "print(f\"Channel: {t1.channel}\")"
   ]
  },
  {
   "cell_type": "code",
   "execution_count": 48,
   "metadata": {},
   "outputs": [],
   "source": [
    "t1.togglePower()\n",
    "t1.toggleMute()\n",
    "t1.volumeUp()\n",
    "t1.changeChannel(43)"
   ]
  },
  {
   "cell_type": "code",
   "execution_count": 49,
   "metadata": {},
   "outputs": [
    {
     "name": "stdout",
     "output_type": "stream",
     "text": [
      "Power Status: True\n",
      "Mute Status: True\n",
      "Volume: 11\n",
      "Channel: 43\n"
     ]
    }
   ],
   "source": [
    "print(f\"Power Status: {t1.powerOn}\")\n",
    "print(f\"Mute Status: {t1.muted}\")\n",
    "print(f\"Volume: {t1.volume}\")\n",
    "print(f\"Channel: {t1.channel}\")"
   ]
  },
  {
   "cell_type": "markdown",
   "metadata": {},
   "source": [
    "## Exercise Three"
   ]
  },
  {
   "cell_type": "code",
   "execution_count": 50,
   "metadata": {
    "slideshow": {
     "slide_type": "subslide"
    }
   },
   "outputs": [],
   "source": [
    "class Point:\n",
    "    def __init__(self, x=0, y=0):\n",
    "        # x and y are optional, the default value for both is 0\n",
    "        self.x = x\n",
    "        self.y = y\n",
    "   \n",
    "    def scale(self, factor):\n",
    "        self.x *= factor\n",
    "        self.y *= factor\n",
    "   \n",
    "    def distance(self, other):\n",
    "        dx = self.x - other.x\n",
    "        dy = self.y - other.y \n",
    "        return np.sqrt(dx**2 + dy**2)\n",
    "    \n",
    "    def normalize(self):\n",
    "        mag = self.distance(Point())\n",
    "        if mag > 0:\n",
    "            self.scale(1/mag)\n",
    "    \n",
    "    def __add__(self, other):\n",
    "        return Point(self.x + other.x, self.y + other.y)\n",
    "    \n",
    "    def __sub__(self, other):\n",
    "        return Point(self.x - other.x, self.y - other.y)\n",
    "    \n",
    "    def __neg__(self):\n",
    "        return Point(-self.x, -self.y)\n",
    "    \n",
    "    def __abs__(self):\n",
    "        return self.distance(Point())\n",
    "    \n",
    "    def __eq__(self, other):\n",
    "        return self.x == other.x and self.y == other.y\n",
    "    \n",
    "    def __str__(self):\n",
    "        return f'({self.x}, {self.y})'\n",
    "    \n",
    "    def __mul__(self, other):\n",
    "        if isinstance(other, (int,float)): # multiply by constant\n",
    "            return Point(self.x * other, self.y * other)\n",
    "\n",
    "        elif isinstance(other, Point): # dot product\n",
    "            return self.x * other.x + self.y * other.y\n",
    "        \n",
    "    def __truediv__(self, other):\n",
    "        if isinstance(other, (int,float)): # multiply by constant\n",
    "            return Point(self.x / other, self.y / other)\n",
    "\n",
    "        elif isinstance(other, Point): # dot product\n",
    "            return Point(self.x / other.x, self.y / other.y)\n"
   ]
  },
  {
   "cell_type": "code",
   "execution_count": 53,
   "metadata": {
    "slideshow": {
     "slide_type": "subslide"
    }
   },
   "outputs": [
    {
     "name": "stdout",
     "output_type": "stream",
     "text": [
      "(2.0, 6.0)\n",
      "(2.0, 4.0)\n"
     ]
    }
   ],
   "source": [
    "p = Point(4,12)\n",
    "q = Point(2,3)\n",
    "\n",
    "w = p/2  #w = (2,6)\n",
    "z = p/q  #z = (2,4)\n",
    "\n",
    "print(w)\n",
    "print(z)"
   ]
  }
 ],
 "metadata": {
  "kernelspec": {
   "display_name": "Python 3",
   "language": "python",
   "name": "python3"
  },
  "language_info": {
   "codemirror_mode": {
    "name": "ipython",
    "version": 3
   },
   "file_extension": ".py",
   "mimetype": "text/x-python",
   "name": "python",
   "nbconvert_exporter": "python",
   "pygments_lexer": "ipython3",
   "version": "3.6.5"
  }
 },
 "nbformat": 4,
 "nbformat_minor": 2
}
