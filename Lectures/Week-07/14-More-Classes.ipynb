{
 "cells": [
  {
   "cell_type": "markdown",
   "metadata": {
    "slideshow": {
     "slide_type": "slide"
    }
   },
   "source": [
    "# More on Classes\n",
    "\n",
    "<div align='center'><img src='https://raw.githubusercontent.com/eitanlees/ISC-3313/master/Lectures/Week-07/images/empty_classroom.gif' width='80%'/></div>"
   ]
  },
  {
   "cell_type": "markdown",
   "metadata": {
    "slideshow": {
     "slide_type": "slide"
    }
   },
   "source": [
    "Last lecture we were introduced to **classes**. \n",
    "\n",
    "Recall that classes are are way to encapsulate data and operations into a single object. "
   ]
  },
  {
   "cell_type": "markdown",
   "metadata": {
    "slideshow": {
     "slide_type": "slide"
    }
   },
   "source": [
    "We looked at classes for a **2D point** and a **polynomial** and showed how to initialize them and define methods. \n",
    "\n",
    "We also looked at special methods to define things such as addition and subtraction between objects."
   ]
  },
  {
   "cell_type": "markdown",
   "metadata": {
    "slideshow": {
     "slide_type": "subslide"
    }
   },
   "source": [
    "Today we will continue our discussion of classes."
   ]
  },
  {
   "cell_type": "markdown",
   "metadata": {
    "slideshow": {
     "slide_type": "slide"
    }
   },
   "source": [
    "# A Fraction Class\n",
    "\n",
    "We'll begin by looking at another example of a class: a **fraction** class. \n",
    "\n",
    "A fraction has both a numerator and a denominator. \n",
    "\n",
    "In our implementation fractions will be reduced to their lowest terms, i.e. 2/4 would be represented as 1/2. \n",
    "\n",
    "In addition we want any negative signs to appear only in the numerator."
   ]
  },
  {
   "cell_type": "markdown",
   "metadata": {
    "slideshow": {
     "slide_type": "subslide"
    }
   },
   "source": [
    "We will let the user pass in a numerator and a denominator to the constructor. \n",
    "\n",
    "For example to initialize the fraction 2/1 we would call:\n",
    "\n",
    "      f = Fraction(2,1)"
   ]
  },
  {
   "cell_type": "markdown",
   "metadata": {
    "slideshow": {
     "slide_type": "subslide"
    }
   },
   "source": [
    "To reduce the fraction, we will use the algorithm from earlier lectures to compute the greatest common divisor of the numerator and the denominator, but it will need to be modified "
   ]
  },
  {
   "cell_type": "code",
   "execution_count": 1,
   "metadata": {},
   "outputs": [],
   "source": [
    "def _gcd(self, u, v):\n",
    "    while v != 0:\n",
    "        r = u % v\n",
    "        u = v\n",
    "        v = r \n",
    "    return u"
   ]
  },
  {
   "cell_type": "markdown",
   "metadata": {
    "slideshow": {
     "slide_type": "fragment"
    }
   },
   "source": [
    "This convention of prefixing underscores to member attributes or methods is used to indicate that they are for internal use only."
   ]
  },
  {
   "cell_type": "markdown",
   "metadata": {
    "slideshow": {
     "slide_type": "fragment"
    }
   },
   "source": [
    "We will then divide both the numerator and denominator by this factor. "
   ]
  },
  {
   "cell_type": "markdown",
   "metadata": {
    "slideshow": {
     "slide_type": "subslide"
    }
   },
   "source": [
    "In addition we will have to check if the numerator or denominator is 0. \n",
    "\n",
    "In this case, instead of following through with a division by 0, we will set both the numerator and denominator to 0. \n",
    "\n",
    "The `__str__` method will also be defined to allow us to print the fraction."
   ]
  },
  {
   "cell_type": "code",
   "execution_count": 1,
   "metadata": {
    "slideshow": {
     "slide_type": "subslide"
    }
   },
   "outputs": [],
   "source": [
    "class Fraction:\n",
    "    def __init__(self, numerator = 1, denominator = 1):\n",
    "        if denominator == 0 or numerator == 0:\n",
    "            self.top = 0\n",
    "            self.bottom = 0\n",
    "        else:\n",
    "            # Compute the GCD\n",
    "            factor = self._gcd(abs(numerator), abs(denominator))\n",
    "            \n",
    "            # Check if negative\n",
    "            if denominator < 0:\n",
    "                factor = -factor\n",
    "\n",
    "            # Reduce Fraction\n",
    "            self.top = numerator // factor\n",
    "            self.bottom = denominator // factor\n",
    "    \n",
    "    def _gcd(self, u, v):\n",
    "        while v != 0:\n",
    "            r = u % v\n",
    "            u = v\n",
    "            v = r \n",
    "        return u\n",
    "    \n",
    "    def __str__(self): \n",
    "        return str(self.top) + \"/\" + str(self.bottom)"
   ]
  },
  {
   "cell_type": "code",
   "execution_count": 7,
   "metadata": {
    "slideshow": {
     "slide_type": "subslide"
    }
   },
   "outputs": [
    {
     "name": "stdout",
     "output_type": "stream",
     "text": [
      "64/5\n"
     ]
    }
   ],
   "source": [
    "f1 = Fraction(128,10)\n",
    "print(f1)"
   ]
  },
  {
   "cell_type": "markdown",
   "metadata": {
    "slideshow": {
     "slide_type": "subslide"
    }
   },
   "source": [
    "## Additional methods\n",
    "\n",
    "We would like a way to view our Fraction as a decimal number. A special method `__float__` allows us to specify how to convert an object to a float. \n",
    "\n",
    "For Fractions this is the obvious way, simply divide the numerator by the denominator."
   ]
  },
  {
   "cell_type": "code",
   "execution_count": 8,
   "metadata": {
    "slideshow": {
     "slide_type": "subslide"
    }
   },
   "outputs": [],
   "source": [
    "class Fraction:\n",
    "    def __init__(self, numerator = 1, denominator = 1):\n",
    "        \n",
    "        if denominator == 0 or numerator == 0:\n",
    "            self.top = 0\n",
    "            self.bottom = 0\n",
    "            \n",
    "        else:\n",
    "            # Compute the GCD\n",
    "            factor = self._gcd(abs(numerator), abs(denominator))\n",
    "            \n",
    "            # Check if negative\n",
    "            if denominator < 0:\n",
    "                factor = -factor\n",
    "            \n",
    "            # Reduce Fraction\n",
    "            self.top = numerator // factor\n",
    "            self.bottom = denominator // factor\n",
    "    \n",
    "    def _gcd(self, u, v):\n",
    "        while v != 0:\n",
    "            r = u % v\n",
    "            u = v\n",
    "            v = r \n",
    "        return u\n",
    "    \n",
    "    def __str__(self): \n",
    "        return str(self.top) + \"/\" + str(self.bottom)\n",
    "    \n",
    "    def __float__(self):\n",
    "        return self.top/self.bottom"
   ]
  },
  {
   "cell_type": "code",
   "execution_count": 9,
   "metadata": {
    "slideshow": {
     "slide_type": "subslide"
    }
   },
   "outputs": [
    {
     "name": "stdout",
     "output_type": "stream",
     "text": [
      "0.75\n"
     ]
    }
   ],
   "source": [
    "f1 = Fraction(3,4)\n",
    "print(float(f1))"
   ]
  },
  {
   "cell_type": "markdown",
   "metadata": {
    "slideshow": {
     "slide_type": "subslide"
    }
   },
   "source": [
    "We would also like to implement the standard artmetic operators, +, -, * and /.\n",
    "\n",
    "Recall how two fractions are added:\n",
    "\n",
    "$$ \\frac{a}{b} + \\frac{c}{d} = \\frac{ad + cb}{bd}.$$"
   ]
  },
  {
   "cell_type": "markdown",
   "metadata": {
    "slideshow": {
     "slide_type": "subslide"
    }
   },
   "source": [
    "This lets us define the `__add__` method as:"
   ]
  },
  {
   "cell_type": "code",
   "execution_count": 6,
   "metadata": {},
   "outputs": [],
   "source": [
    "def __add__(self, other):\n",
    "    return Fraction(self.top * other.bottom + self.bottom * other.top, self.bottom * other.bottom)"
   ]
  },
  {
   "cell_type": "markdown",
   "metadata": {
    "slideshow": {
     "slide_type": "subslide"
    }
   },
   "source": [
    "Note that using this construction, we do not have to worry about dividing by 0 or finding the greatest common divisor. That is all taken care of by the constructor."
   ]
  },
  {
   "cell_type": "markdown",
   "metadata": {
    "slideshow": {
     "slide_type": "subslide"
    }
   },
   "source": [
    "There is also a slate of comparisons that we could implement. \n",
    "\n",
    "For example we may want: ==, !=, <, >, <= or >=. \n",
    "\n",
    "These are the special methods `__eq__`, `__ne__`, `__lt__`, `__gt__` `__le__` and `__ge__` respectively."
   ]
  },
  {
   "cell_type": "markdown",
   "metadata": {
    "slideshow": {
     "slide_type": "subslide"
    }
   },
   "source": [
    "Luckily, instead of defining all of these methods, if we define only, say `__eq__` and `__lt__` Python will by default infer the other comparisons. \n",
    "\n",
    "For instance `x != y` is equivalent to `not(x == y)`, \n",
    "\n",
    "`x < y` is equivalent to `y > x`, \n",
    "\n",
    "and `x <= y` is equivalent to `x < y` or `x == y`. "
   ]
  },
  {
   "cell_type": "markdown",
   "metadata": {
    "slideshow": {
     "slide_type": "subslide"
    }
   },
   "source": [
    "## Exercise\n",
    "\n",
    "Add the following methods to the Fraction class:\n",
    "* \\__sub__\n",
    "* \\__mul__\n",
    "* \\__truediv__\n",
    "* \\__eq__\n",
    "* \\__lt__\n",
    "* \\__neg__\n",
    "* \\__abs__\n",
    "\n",
    "Test your code on the following operations:"
   ]
  },
  {
   "cell_type": "code",
   "execution_count": 7,
   "metadata": {
    "slideshow": {
     "slide_type": "subslide"
    }
   },
   "outputs": [],
   "source": [
    "class Fraction:\n",
    "    def __init__(self, numerator = 1, denominator = 1):\n",
    "        \n",
    "        if denominator == 0 or numerator == 0:\n",
    "            self.top = 0\n",
    "            self.bottom = 0\n",
    "            \n",
    "        else:\n",
    "            # Compute the GCD\n",
    "            factor = self._gcd(abs(numerator), abs(denominator))\n",
    "            \n",
    "            # Check if negative\n",
    "            if denominator < 0:\n",
    "                factor = -factor\n",
    "            \n",
    "            # Reduce Fraction\n",
    "            self.top = numerator // factor\n",
    "            self.bottom = denominator // factor\n",
    "    \n",
    "    def _gcd(self, u, v):\n",
    "        while v != 0:\n",
    "            r = u % v\n",
    "            u = v\n",
    "            v = r \n",
    "        return u\n",
    "    \n",
    "    def __str__(self): \n",
    "        return str(self.top) + \"/\" + str(self.bottom)\n",
    "    \n",
    "    def __float__(self):\n",
    "        return self.top/self.bottom\n",
    "    \n",
    "    def __add__(self, other):\n",
    "        return Fraction(self.top * other.bottom + self.bottom * other.top, self.bottom * other.bottom)"
   ]
  },
  {
   "cell_type": "code",
   "execution_count": 8,
   "metadata": {
    "slideshow": {
     "slide_type": "subslide"
    }
   },
   "outputs": [
    {
     "name": "stdout",
     "output_type": "stream",
     "text": [
      "14/15\n"
     ]
    }
   ],
   "source": [
    "f1 = Fraction(-2,3)\n",
    "f2 = Fraction(8,5)\n",
    "\n",
    "print(f1 + f2)\n",
    "# print(f1 - f2)\n",
    "# print(f1 * f2)\n",
    "# print(f1 / f2)\n",
    "\n",
    "# print(f1 > f2)\n",
    "# print(f1 != f2)"
   ]
  },
  {
   "cell_type": "markdown",
   "metadata": {
    "slideshow": {
     "slide_type": "slide"
    }
   },
   "source": [
    "# UML Diagrams\n",
    "\n",
    "Unified Modeling Language diagrams are often used to depict visually a class. \n",
    "\n",
    "UML can describe very complicated interactions between classes and are often used to show the workflow of an entire project. \n",
    "\n",
    "The important thing about UML is that it is independent of the programming language. The same diagram could be used by developpers in Python, Java, C#, C++ etc. "
   ]
  },
  {
   "cell_type": "markdown",
   "metadata": {
    "slideshow": {
     "slide_type": "subslide"
    }
   },
   "source": [
    "<div align='center'><img src=\"https://raw.githubusercontent.com/eitanlees/ISC-3313/master/Lectures/Week-07/images/UML_Bank.png\" width='40%'/></div>\n",
    "\n",
    "This is a UML diagram for a class representing a bank account. A typical class diagram is split into three compartments:\n",
    "\n",
    "1. Top compartment that contains the name of the class in bold letters\n",
    "2. Middle compartment that contains the class attributes and their types\n",
    "3. Bottom compartment that contains the class methods"
   ]
  },
  {
   "cell_type": "markdown",
   "metadata": {
    "slideshow": {
     "slide_type": "subslide"
    }
   },
   "source": [
    "So here we're seing that the **BankAccount** class has an owner (a string) and a balance that is initially set to 0. \n",
    "\n",
    "We can deposit and withdraw money from the account."
   ]
  },
  {
   "cell_type": "markdown",
   "metadata": {
    "slideshow": {
     "slide_type": "subslide"
    }
   },
   "source": [
    "How we implement this class is delibrately not given. \n",
    "\n",
    "It is entirely up to us to choose what language to use and how to code it up. \n",
    "\n",
    "Below is a Python implmentation."
   ]
  },
  {
   "cell_type": "code",
   "execution_count": 10,
   "metadata": {},
   "outputs": [],
   "source": [
    "class BankAccount:\n",
    "    \n",
    "    def __init__(self, owner, balance = 0):\n",
    "        self.owner = owner\n",
    "        self.balance = balance\n",
    "        \n",
    "    def deposit(self, amount):\n",
    "        self.balance += amount\n",
    "        \n",
    "    def withdraw(self, amount):\n",
    "        self.balance -= amount\n"
   ]
  },
  {
   "cell_type": "code",
   "execution_count": 11,
   "metadata": {
    "slideshow": {
     "slide_type": "subslide"
    }
   },
   "outputs": [
    {
     "name": "stdout",
     "output_type": "stream",
     "text": [
      "The balance in the account owned by Eitan is $ 14900\n"
     ]
    }
   ],
   "source": [
    "account1 = BankAccount(\"Eitan\", 100)\n",
    "account1.deposit(15000)\n",
    "account1.withdraw(200)\n",
    "\n",
    "print(\"The balance in the account owned by\", account1.owner, \"is $\", account1.balance)"
   ]
  },
  {
   "cell_type": "markdown",
   "metadata": {
    "slideshow": {
     "slide_type": "subslide"
    }
   },
   "source": [
    "## Exercise\n",
    "\n",
    "Implement the following simplified model of a television. \n",
    "\n",
    "<div align='center'><img src='https://raw.githubusercontent.com/eitanlees/ISC-3313/master/Lectures/Week-07/images/UML_TV.png' width='30%'/></div>"
   ]
  },
  {
   "cell_type": "markdown",
   "metadata": {
    "slideshow": {
     "slide_type": "slide"
    }
   },
   "source": [
    "# Polymorphism\n",
    "\n",
    "Sometimes we want an operation to do different things depending on context. \n",
    "\n",
    "This is called **polymorphism**. \n",
    "\n",
    "For example the plus operator can add two numbers, in `1 + 3` for example. \n",
    "\n",
    "Or if we've appropriately defined the `__add__` method in our Point class for example it can add two Points `p + q`."
   ]
  },
  {
   "cell_type": "markdown",
   "metadata": {
    "slideshow": {
     "slide_type": "subslide"
    }
   },
   "source": [
    "What if we want to define multiplication (i.e. the `__mul__` method)? For example we may want to multiply a point by a number:\n",
    "    \n",
    "    p = Point(1,2)\n",
    "    q = p*3 # scales p by 3, but returns a new Point\n",
    "    \n",
    "This form of multiplication would be similar to the `scale()` method, however instead of modifying `p`, it would return a new Point. "
   ]
  },
  {
   "cell_type": "markdown",
   "metadata": {
    "slideshow": {
     "slide_type": "subslide"
    }
   },
   "source": [
    "This could be implemented like this:"
   ]
  },
  {
   "cell_type": "code",
   "execution_count": 11,
   "metadata": {},
   "outputs": [],
   "source": [
    "def __mul__(self, other):\n",
    "    \"\"\"\n",
    "    Multiplies this point by a number\n",
    "    \n",
    "    Parameters\n",
    "    ---------\n",
    "    other [int/float]\n",
    "    \n",
    "    Returns\n",
    "    -------\n",
    "    [Point] - new point scaled by other\n",
    "    \"\"\"\n",
    "    \n",
    "    return Point(other*self.x, other*self.y)"
   ]
  },
  {
   "cell_type": "markdown",
   "metadata": {
    "slideshow": {
     "slide_type": "subslide"
    }
   },
   "source": [
    "What if instead we wanted to multiply two points together? \n",
    "\n",
    "    p = Point(1,2)\n",
    "    q = Point(4,3)\n",
    "    w = p*q\n",
    "    \n",
    "What does this mean? One interpretation would be the vector dot product defined as:\n",
    "$$ w = \\mathbf{p}\\cdot\\mathbf{q} = p_x q_x + p_y q_y.$$\n",
    "\n",
    "In other words we multiply the $x$ components of $\\mathbf{p}$ and $\\mathbf{q}$ and add this to the product of the $y$ components."
   ]
  },
  {
   "cell_type": "markdown",
   "metadata": {
    "slideshow": {
     "slide_type": "subslide"
    }
   },
   "source": [
    "We could implement this as follows:"
   ]
  },
  {
   "cell_type": "code",
   "execution_count": 12,
   "metadata": {},
   "outputs": [],
   "source": [
    "def __mul__(self, other):\n",
    "    \"\"\"\n",
    "    Defines the dot product of two points\n",
    "    \n",
    "    Parameters\n",
    "    ---------\n",
    "    other [Point]\n",
    "    \n",
    "    Returns\n",
    "    -------\n",
    "    [float] - dot product of this Point and another Point\n",
    "    \"\"\"\n",
    "    \n",
    "    return self.x*other.x + self.y*other.y"
   ]
  },
  {
   "cell_type": "markdown",
   "metadata": {
    "slideshow": {
     "slide_type": "subslide"
    }
   },
   "source": [
    "Of course once we define one method of multiplication we are stuck using that one. If we define multiplication to be the dot product, we cannot then call `q = p*3`.\n",
    "\n",
    "But there is a way to allow us to define `__mul__` to do both operations. This invloves using the function `isinstance` that tests if an object is of a specific type. "
   ]
  },
  {
   "cell_type": "code",
   "execution_count": 13,
   "metadata": {
    "slideshow": {
     "slide_type": "subslide"
    }
   },
   "outputs": [],
   "source": [
    "def __mul__(self, other):\n",
    "    \"\"\"\n",
    "    Defines the multiplication operator\n",
    "    \n",
    "    Parameters\n",
    "    ----------\n",
    "    other [Point/int/float]\n",
    "    \n",
    "    Returns\n",
    "    [Point/float] - depending on the type of other, \n",
    "            returns this point multiplied by other if other is an int/float\n",
    "            returns a float giving the dot product if other is a Point\n",
    "    \"\"\"\n",
    "    \n",
    "    if isinstance(other, (int,float)): # multiply by constant\n",
    "        return Point(self.x * other, self.y * other)\n",
    "    \n",
    "    elif isinstance(other, Point): # dot product\n",
    "        return self.x * other.x + self.y * other.y"
   ]
  },
  {
   "cell_type": "code",
   "execution_count": 20,
   "metadata": {
    "slideshow": {
     "slide_type": "subslide"
    }
   },
   "outputs": [],
   "source": [
    "class Point:\n",
    "    def __init__(self, x=0, y=0):\n",
    "        # x and y are optional, the default value for both is 0\n",
    "        self.x = x\n",
    "        self.y = y\n",
    "   \n",
    "    def scale(self, factor):\n",
    "        self.x *= factor\n",
    "        self.y *= factor\n",
    "   \n",
    "    def distance(self, other):\n",
    "        dx = self.x - other.x\n",
    "        dy = self.y - other.y \n",
    "        return np.sqrt(dx**2 + dy**2)\n",
    "    \n",
    "    def normalize(self):\n",
    "        mag = self.distance(Point())\n",
    "        if mag > 0:\n",
    "            self.scale(1/mag)\n",
    "    \n",
    "    def __add__(self, other):\n",
    "        return Point(self.x + other.x, self.y + other.y)\n",
    "    \n",
    "    def __sub__(self, other):\n",
    "        return Point(self.x - other.x, self.y - other.y)\n",
    "    \n",
    "    def __neg__(self):\n",
    "        return Point(-self.x, -self.y)\n",
    "    \n",
    "    def __abs__(self):\n",
    "        return self.distance(Point())\n",
    "    \n",
    "    def __eq__(self, other):\n",
    "        return self.x == other.x and self.y == other.y\n",
    "    \n",
    "    def __str__(self):\n",
    "        return f'({self.x}, {self.y})'\n",
    "    \n",
    "    def __mul__(self, other):\n",
    "        if isinstance(other, (int,float)): # multiply by constant\n",
    "            return Point(self.x * other, self.y * other)\n",
    "\n",
    "        elif isinstance(other, Point): # dot product\n",
    "            return self.x * other.x + self.y * other.y\n",
    "        \n",
    "    def __truediv__(self, other):\n",
    "        if isinstance(other, (int,float)): # multiply by constant\n",
    "            return Point(self.x / other, self.y / other)\n",
    "\n",
    "        elif isinstance(other, Point): # dot product\n",
    "            return Point(self.x / other.x, self.y / other.y)\n"
   ]
  },
  {
   "cell_type": "code",
   "execution_count": 22,
   "metadata": {
    "slideshow": {
     "slide_type": "subslide"
    }
   },
   "outputs": [
    {
     "name": "stdout",
     "output_type": "stream",
     "text": [
      "(9, 9)\n",
      "36\n",
      "(1.0, 1.0)\n",
      "(0.3, 1.5)\n"
     ]
    }
   ],
   "source": [
    "p = Point(3,3)\n",
    "q = Point(10,2)\n",
    "\n",
    "print(p*3)\n",
    "print(p*q)\n",
    "\n",
    "print(p/3)\n",
    "print(p/q)"
   ]
  },
  {
   "cell_type": "markdown",
   "metadata": {
    "slideshow": {
     "slide_type": "-"
    }
   },
   "source": [
    "Note that we cannot call `3*p`, instead of `p*3`, because the \"\\*\" operator we call in the first case is the one defined for the `int` class. This operator has not been defined for multiplication by a Point. "
   ]
  },
  {
   "cell_type": "markdown",
   "metadata": {
    "slideshow": {
     "slide_type": "subslide"
    }
   },
   "source": [
    "## Exercise\n",
    "\n",
    "Add the `__truediv__` method to the Point class. If the \"other\" parameter is a float or an int, this method should return a new Point with the $x$ and $y$ components divided by `other`.\n",
    "\n",
    "If the other parameter is a Point, it should return a new Point defined by the pointwise division of the two Points.\n",
    "\n",
    "    p = Point(4,12)\n",
    "    q = Point(2,3)\n",
    "    \n",
    "    w = p/2  #w = (2,6)\n",
    "    z = p/q  #z = (2,4)"
   ]
  }
 ],
 "metadata": {
  "celltoolbar": "Slideshow",
  "kernelspec": {
   "display_name": "Python 3",
   "language": "python",
   "name": "python3"
  },
  "language_info": {
   "codemirror_mode": {
    "name": "ipython",
    "version": 3
   },
   "file_extension": ".py",
   "mimetype": "text/x-python",
   "name": "python",
   "nbconvert_exporter": "python",
   "pygments_lexer": "ipython3",
   "version": "3.6.5"
  }
 },
 "nbformat": 4,
 "nbformat_minor": 2
}
