{
 "cells": [
  {
   "cell_type": "markdown",
   "metadata": {
    "slideshow": {
     "slide_type": "slide"
    }
   },
   "source": [
    "# Introduction to Classes\n",
    "\n",
    "<div align=\"center\"><img src=\"https://raw.githubusercontent.com/eitanlees/ISC-3313/master/Lectures/Week-07/images/classroom.gif\"/></div>"
   ]
  },
  {
   "cell_type": "markdown",
   "metadata": {
    "slideshow": {
     "slide_type": "slide"
    }
   },
   "source": [
    "Hopefully by now you are all comfortable with functional programming, in other words defining and using functions.\n",
    "\n",
    "Python however is actually an object oriented programming language. "
   ]
  },
  {
   "cell_type": "markdown",
   "metadata": {
    "slideshow": {
     "slide_type": "slide"
    }
   },
   "source": [
    "An object in a single instance of a class. \n",
    "\n",
    "We have already several examples of classes. Remember backs to lists."
   ]
  },
  {
   "cell_type": "code",
   "execution_count": 1,
   "metadata": {},
   "outputs": [
    {
     "data": {
      "text/plain": [
       "list"
      ]
     },
     "execution_count": 1,
     "metadata": {},
     "output_type": "execute_result"
    }
   ],
   "source": [
    "groceries = list()\n",
    "type(groceries)"
   ]
  },
  {
   "cell_type": "markdown",
   "metadata": {
    "slideshow": {
     "slide_type": "fragment"
    }
   },
   "source": [
    "`groceries` is a *object* of type *list*. List is one of the classes built in to Python. \n",
    "\n",
    "A list has *attributes*, for example a length. \n",
    "\n",
    "It also has *methods*, for example `append`, or `pop`."
   ]
  },
  {
   "cell_type": "markdown",
   "metadata": {
    "slideshow": {
     "slide_type": "subslide"
    }
   },
   "source": [
    "A NumPy array is another example of an object."
   ]
  },
  {
   "cell_type": "code",
   "execution_count": 2,
   "metadata": {},
   "outputs": [
    {
     "data": {
      "text/plain": [
       "numpy.ndarray"
      ]
     },
     "execution_count": 2,
     "metadata": {},
     "output_type": "execute_result"
    }
   ],
   "source": [
    "import numpy as np\n",
    "\n",
    "a = np.array([1,2,3])\n",
    "type(a)"
   ]
  },
  {
   "cell_type": "markdown",
   "metadata": {
    "slideshow": {
     "slide_type": "fragment"
    }
   },
   "source": [
    "In python, **everything** is an object!"
   ]
  },
  {
   "cell_type": "markdown",
   "metadata": {
    "slideshow": {
     "slide_type": "slide"
    }
   },
   "source": [
    "Today we will look at designing our own classes. \n",
    "\n",
    "Classes can be used for many tasks. \n",
    "\n",
    "All of the algorithms we have already seen, for example Euler's method for solving ODE's, or the Bisection method for root finding could be written as part of a class, although we wrote them as standalone functions."
   ]
  },
  {
   "cell_type": "markdown",
   "metadata": {
    "slideshow": {
     "slide_type": "slide"
    }
   },
   "source": [
    "This illustrates an important point. Python supports building classes, but unlike other object oriented languages (for example Java) it does not require them. \n",
    "\n",
    "You are likely proficient enough by now in Python to code up an algorithm without custom classes. So why do we need classes at all?"
   ]
  },
  {
   "cell_type": "markdown",
   "metadata": {
    "slideshow": {
     "slide_type": "subslide"
    }
   },
   "source": [
    "Classes are a nice way to group together a set of data and functions that operate on that data. \n",
    "\n",
    "This leads to modular code with more manageable (i.e. smaller) units. \n",
    "\n",
    "Even though you do not need classes (or functions for that mattter), they often provide a more elegant solution that is easier to extend late on."
   ]
  },
  {
   "cell_type": "markdown",
   "metadata": {
    "slideshow": {
     "slide_type": "subslide"
    }
   },
   "source": [
    "In addition, outside the world of mathematical programming, classes can be a very natural way of thinking about problems. \n",
    "\n",
    "Most modern software development is based on classes and objects. \n",
    "\n",
    "If you decide later on to learn Java or C++ for example, knowledge of objects will be a big help."
   ]
  },
  {
   "cell_type": "markdown",
   "metadata": {
    "slideshow": {
     "slide_type": "slide"
    }
   },
   "source": [
    "# A Point Class\n",
    "\n",
    "As our first example, we will create a simple `Point` class for representing a two dimensional point. \n",
    "\n",
    "We initialize the class by calling:\n",
    "\n",
    "    class Point:\n",
    "    \n",
    "The keyword **class** tells Python that we are defining a new class. The identifier `Point` is the name of the class similar to how we defined functions using `def`."
   ]
  },
  {
   "cell_type": "markdown",
   "metadata": {
    "slideshow": {
     "slide_type": "subslide"
    }
   },
   "source": [
    "Within the body of the class we can define all the **methods** (a.k.a **member functions**) that will be supported by this class. \n",
    "\n",
    "The function definitions will be nested within the class body."
   ]
  },
  {
   "cell_type": "markdown",
   "metadata": {
    "slideshow": {
     "slide_type": "subslide"
    }
   },
   "source": [
    "The first method we will look at is a special one named `__init__` (note *two* underscores before and after `init`). \n",
    "\n",
    "This is referred to as the **constructor**. \n",
    "\n",
    "Each time a caller creates a point, this method is automatically called by Python. "
   ]
  },
  {
   "cell_type": "markdown",
   "metadata": {
    "slideshow": {
     "slide_type": "subslide"
    }
   },
   "source": [
    "Every class you define must have an `__init__` method. \n",
    "\n",
    "The primary purpose of the `__init__` method is to establish initial values for the **attributes** of the newly created object."
   ]
  },
  {
   "cell_type": "markdown",
   "metadata": {
    "slideshow": {
     "slide_type": "subslide"
    }
   },
   "source": [
    "The `__init__` function for our Point class might look like:"
   ]
  },
  {
   "cell_type": "code",
   "execution_count": 43,
   "metadata": {},
   "outputs": [],
   "source": [
    "class Point:\n",
    "    def __init__(self):\n",
    "        self.x = 0\n",
    "        self.y = 0"
   ]
  },
  {
   "cell_type": "markdown",
   "metadata": {
    "slideshow": {
     "slide_type": "subslide"
    }
   },
   "source": [
    "We can now create a Point object."
   ]
  },
  {
   "cell_type": "code",
   "execution_count": 44,
   "metadata": {},
   "outputs": [
    {
     "data": {
      "text/plain": [
       "__main__.Point"
      ]
     },
     "execution_count": 44,
     "metadata": {},
     "output_type": "execute_result"
    }
   ],
   "source": [
    "p = Point() # call the constructor, store in p\n",
    "\n",
    "type(p) # check the type of p"
   ]
  },
  {
   "cell_type": "markdown",
   "metadata": {
    "slideshow": {
     "slide_type": "subslide"
    }
   },
   "source": [
    "As was the case with the stand-alone functions that we covered earlier, member function declarations begin with the `def` keyword followed by the name of the method and any parameters followed by the body of the function. \n",
    "\n",
    "One difference between stand-alone functions and member functions is the use of the `self` parameter in the function signature. \n",
    "\n",
    "The *implicit* parameter `self` serves to internally identify the particular instance being created. Eventually the user may create several different points, each of which will have its own state stored in memory. "
   ]
  },
  {
   "cell_type": "markdown",
   "metadata": {
    "slideshow": {
     "slide_type": "subslide"
    }
   },
   "source": [
    "The `self` identifier allows us to access members (attributes or methods) of this instance inside the class body using the standard syntax `object.membername`. \n",
    "\n",
    "For example in the `__init__` function we assign `self.x = 0` to establish an initial value for the attribute `x`. \n",
    "\n",
    "This attributes becomes part of the object's internal representation."
   ]
  },
  {
   "cell_type": "code",
   "execution_count": 49,
   "metadata": {},
   "outputs": [
    {
     "name": "stdout",
     "output_type": "stream",
     "text": [
      "0 0\n"
     ]
    }
   ],
   "source": [
    "p = Point()\n",
    "print(p.x, p.y)"
   ]
  },
  {
   "cell_type": "markdown",
   "metadata": {
    "slideshow": {
     "slide_type": "subslide"
    }
   },
   "source": [
    "We can also modify the class attributes"
   ]
  },
  {
   "cell_type": "code",
   "execution_count": 50,
   "metadata": {},
   "outputs": [
    {
     "name": "stdout",
     "output_type": "stream",
     "text": [
      "5 3\n"
     ]
    }
   ],
   "source": [
    "p.x = 5\n",
    "p.y = 3\n",
    "print(p.x, p.y)"
   ]
  },
  {
   "cell_type": "markdown",
   "metadata": {
    "slideshow": {
     "slide_type": "subslide"
    }
   },
   "source": [
    "## Completing the Point class\n",
    "\n",
    "\n",
    "Let us know look at redesigning the Point class to support more interesting behaviour. \n",
    "\n",
    "To start with, suppose we didn't want the initial values of `x` and `y` to be 0. \n",
    "\n",
    "Suppose we want the user to be able to specify them. \n",
    "\n",
    "We can do this by passing in arguments to the constructor. Just like with functions, these arugments can be optional."
   ]
  },
  {
   "cell_type": "code",
   "execution_count": 52,
   "metadata": {
    "slideshow": {
     "slide_type": "subslide"
    }
   },
   "outputs": [
    {
     "name": "stdout",
     "output_type": "stream",
     "text": [
      "5 2\n"
     ]
    }
   ],
   "source": [
    "class Point:\n",
    "    def __init__(self, x=0, y=0):\n",
    "        # x and y are optional, the default value for both is 0\n",
    "        self.x = x\n",
    "        self.y = y\n",
    "        \n",
    "p1 = Point(5,2) # a point at (5,2)\n",
    "\n",
    "print(p1.x, p1.y)"
   ]
  },
  {
   "cell_type": "markdown",
   "metadata": {
    "slideshow": {
     "slide_type": "subslide"
    }
   },
   "source": [
    "We may also want to define a scaling function that scaling both coordinate values by a single factor."
   ]
  },
  {
   "cell_type": "code",
   "execution_count": 18,
   "metadata": {},
   "outputs": [],
   "source": [
    "def scale(self, factor):\n",
    "    self.x *= factor\n",
    "    self.y *= factor"
   ]
  },
  {
   "cell_type": "markdown",
   "metadata": {
    "slideshow": {
     "slide_type": "subslide"
    }
   },
   "source": [
    "We may also want to compute the distance between two points. \n",
    "\n",
    "Recall that the distance between two points $(x_1,y_1)$ and $(x_2,y_2)$ can be computed by the Pythagoras theorem:\n",
    "\n",
    "$$ d = \\sqrt{(x_1 - x_2)^2 + (y_1 - y_2)^2}.$$\n",
    "\n",
    "We can write a function that does just this."
   ]
  },
  {
   "cell_type": "code",
   "execution_count": 19,
   "metadata": {
    "slideshow": {
     "slide_type": "subslide"
    }
   },
   "outputs": [],
   "source": [
    "def distance(self, other):\n",
    "    dx = self.x - other.x\n",
    "    dy = self.y - other.y\n",
    "    \n",
    "    return np.sqrt(dx**2 + dy**2)"
   ]
  },
  {
   "cell_type": "markdown",
   "metadata": {
    "slideshow": {
     "slide_type": "-"
    }
   },
   "source": [
    "Here `other` is another instance of the class `Point`. \n",
    "\n",
    "Note that we use the NumPy function `sqrt`, so we have to make sure that the NumPy module has been imported earlier."
   ]
  },
  {
   "cell_type": "markdown",
   "metadata": {
    "slideshow": {
     "slide_type": "subslide"
    }
   },
   "source": [
    "Another possible useful function is a `normalize` function. This function scales our coordinates, so that the point has distance 1 from the origin. "
   ]
  },
  {
   "cell_type": "code",
   "execution_count": 24,
   "metadata": {},
   "outputs": [],
   "source": [
    "def normalize(self):\n",
    "    mag = self.distance(Point()) # compute the distance from point to the origin\n",
    "    if mag > 0:\n",
    "        # if the magnitude is not 0, scale by 1 over magnitude\n",
    "        self.scale(1/mag)"
   ]
  },
  {
   "cell_type": "markdown",
   "metadata": {},
   "source": [
    "Note that this function does not take any additonal parameters, nor does it return anything. It simply modifies the `x` and `y` values."
   ]
  },
  {
   "cell_type": "markdown",
   "metadata": {
    "slideshow": {
     "slide_type": "subslide"
    }
   },
   "source": [
    "Let's test out our completed Point class."
   ]
  },
  {
   "cell_type": "code",
   "execution_count": 26,
   "metadata": {
    "slideshow": {
     "slide_type": "subslide"
    }
   },
   "outputs": [],
   "source": [
    "import numpy as np\n",
    "\n",
    "class Point:\n",
    "    def __init__(self, x=0, y=0):\n",
    "        # x and y are optional, the default value for both is 0\n",
    "        self.x = x\n",
    "        self.y = y\n",
    "   \n",
    "    def scale(self, factor):\n",
    "        self.x *= factor\n",
    "        self.y *= factor\n",
    "   \n",
    "    def distance(self, other):\n",
    "        dx = self.x - other.x\n",
    "        dy = self.y - other.y \n",
    "        return np.sqrt(dx**2 + dy**2)\n",
    "    \n",
    "    def normalize(self):\n",
    "        mag = self.distance(Point())\n",
    "        if mag > 0:\n",
    "            self.scale(1/mag)\n",
    "   "
   ]
  },
  {
   "cell_type": "code",
   "execution_count": 27,
   "metadata": {
    "slideshow": {
     "slide_type": "subslide"
    }
   },
   "outputs": [
    {
     "name": "stdout",
     "output_type": "stream",
     "text": [
      "Distance from p1 to p2 is 5.0990195135927845\n",
      "Distance from p1 to p2 is 9.19803902718557\n"
     ]
    }
   ],
   "source": [
    "p1 = Point(5,1)\n",
    "p2 = Point(10,2)\n",
    "\n",
    "print(\"Distance from p1 to p2 is\", p1.distance(p2))\n",
    "p1.normalize()\n",
    "print(\"Distance from p1 to p2 is\", p1.distance(p2))"
   ]
  },
  {
   "cell_type": "markdown",
   "metadata": {
    "slideshow": {
     "slide_type": "subslide"
    }
   },
   "source": [
    "## Exercise\n",
    "\n",
    "Create a class `Rectangle` that has the following attributes:\n",
    "* width\n",
    "* height\n",
    "\n",
    "It should also support the following operations:\n",
    "* a function to scale the width and another one to scale the height\n",
    "* a function to compute the area of the rectangle"
   ]
  },
  {
   "cell_type": "markdown",
   "metadata": {
    "slideshow": {
     "slide_type": "slide"
    }
   },
   "source": [
    "# Special Methods\n",
    "\n",
    "Some class methods have names starting and ending with a double underscore. \n",
    "\n",
    "We've already seen the `__init__` function for example. This constructor is called automatically when an instance is created. \n",
    "\n",
    "Other special methods allow us to perform arithmetic operations with other instances, for example \"+\", \"-\", \"\\*\" etc. \n",
    "\n",
    "Other languages may call this operator overloading."
   ]
  },
  {
   "cell_type": "markdown",
   "metadata": {
    "slideshow": {
     "slide_type": "subslide"
    }
   },
   "source": [
    "## Example, a Polynomial Class\n",
    "\n",
    "\n",
    "Let's create a class that represents a polynomial. A polynomial is a function $p(x)$ of the form:\n",
    "$$ p(x) = a_0 + a_1 x + a_2 x^2 + ... + a_n x^n.$$\n",
    "\n",
    "Our polynomial class will take a list of coefficients $a_i$, $0\\leq  i \\leq n$. "
   ]
  },
  {
   "cell_type": "markdown",
   "metadata": {
    "slideshow": {
     "slide_type": "subslide"
    }
   },
   "source": [
    "Let's start by defining the class and giving it a constructor."
   ]
  },
  {
   "cell_type": "code",
   "execution_count": 14,
   "metadata": {
    "collapsed": true
   },
   "outputs": [],
   "source": [
    "class Polynomial:\n",
    "    def __init__(self, coefficients):\n",
    "        self.coeff = coefficients"
   ]
  },
  {
   "cell_type": "markdown",
   "metadata": {
    "slideshow": {
     "slide_type": "subslide"
    }
   },
   "source": [
    "We will also want a way to evaluate the Polynomial at a point $x$. "
   ]
  },
  {
   "cell_type": "code",
   "execution_count": 31,
   "metadata": {},
   "outputs": [],
   "source": [
    "class Polynomial:\n",
    "    def __init__(self, coefficients):\n",
    "        self.coeff = coefficients\n",
    "        \n",
    "    def evaluate(self, x):\n",
    "        p = 0\n",
    "        for i in range(len(self.coeff)):\n",
    "            p += self.coeff[i] * x**i\n",
    "            \n",
    "        return p"
   ]
  },
  {
   "cell_type": "markdown",
   "metadata": {
    "slideshow": {
     "slide_type": "subslide"
    }
   },
   "source": [
    "We can test this out on the function $p(x) = 1 + 3x + 5x^2$."
   ]
  },
  {
   "cell_type": "code",
   "execution_count": 32,
   "metadata": {},
   "outputs": [
    {
     "name": "stdout",
     "output_type": "stream",
     "text": [
      "p(0.5) = 3.75\n"
     ]
    }
   ],
   "source": [
    "p = Polynomial([1,3,5])\n",
    "x = 0.5\n",
    "\n",
    "print(f\"p({x}) = {p.evaluate(x)}\")"
   ]
  },
  {
   "cell_type": "markdown",
   "metadata": {
    "slideshow": {
     "slide_type": "subslide"
    }
   },
   "source": [
    "Let `a` and `b` be instances of some class `C`. Can we write `a + b`? Yes, if class `C` has a special method, `__add__`. \n",
    "\n",
    "    class C:\n",
    "    ....\n",
    "        __add__(self, other):\n",
    "        .....\n",
    "        \n",
    "The `__add__` method should add the instances `self` and `other` (whatever that means for the class `C`) and return the result as an instance. \n",
    "\n",
    "When Python encounters `a+b` it will check if class `C` contains an `__add__` method and if it does interpret `a + b` as `a.__add__(b)`."
   ]
  },
  {
   "cell_type": "markdown",
   "metadata": {
    "slideshow": {
     "slide_type": "subslide"
    }
   },
   "source": [
    "Specifically, say we have two polynomials, \n",
    "\n",
    "$p_1 = 1 + 3x + 5x^2$  \n",
    "\n",
    "$p_2 = 4 + 8x - 9x^2 + 4x^3$. \n",
    "\n",
    "We can say that $p_1 + p_2 = 5 + 11x - 4x^2 + 4x^3$. \n",
    "\n",
    "How can we code this up?"
   ]
  },
  {
   "cell_type": "code",
   "execution_count": 34,
   "metadata": {
    "slideshow": {
     "slide_type": "subslide"
    }
   },
   "outputs": [],
   "source": [
    "class Polynomial:\n",
    "    def __init__(self, coefficients):\n",
    "        self.coeff = coefficients\n",
    "        \n",
    "    def evaluate(self, x):\n",
    "        p = 0\n",
    "        for i in range(len(self.coeff)):\n",
    "            p += self.coeff[i]*x**i\n",
    "            \n",
    "        return p\n",
    "    \n",
    "    def __add__(self, other):\n",
    "        # start with the longer list of coefficents and add the other list\n",
    "        if len(self.coeff) > len(other.coeff):\n",
    "            sum_coeff = self.coeff\n",
    "            for i in range(len(other.coeff)):\n",
    "                sum_coeff[i] += other.coeff[i]\n",
    "                \n",
    "        else:\n",
    "            sum_coeff = other.coeff\n",
    "            for i in range(len(self.coeff)):\n",
    "                sum_coeff[i] += self.coeff[i]\n",
    "                \n",
    "        return Polynomial(sum_coeff)"
   ]
  },
  {
   "cell_type": "code",
   "execution_count": 36,
   "metadata": {
    "slideshow": {
     "slide_type": "subslide"
    }
   },
   "outputs": [
    {
     "name": "stdout",
     "output_type": "stream",
     "text": [
      "p3(0.5) = 10.0\n"
     ]
    }
   ],
   "source": [
    "p1 = Polynomial([1,3,5])\n",
    "p2 = Polynomial([4,8,-9,4])\n",
    "\n",
    "p3 = p1 + p2\n",
    "x = 0.5\n",
    "print(f\"p3({x}) = {p3.evaluate(x)}\")"
   ]
  },
  {
   "cell_type": "markdown",
   "metadata": {
    "slideshow": {
     "slide_type": "subslide"
    }
   },
   "source": [
    "## Call Method\n",
    "\n",
    "Computing the value of the mathematical function represented by the polynomial class is done by calling the function `p.evaluate(x)`. \n",
    "\n",
    "If we could call `p(x)` instead this would look more like an ordinary function. \n",
    "\n",
    "Such a syntax is possible using the `__call__` special method. "
   ]
  },
  {
   "cell_type": "code",
   "execution_count": 37,
   "metadata": {
    "slideshow": {
     "slide_type": "subslide"
    }
   },
   "outputs": [],
   "source": [
    "class Polynomial:\n",
    "    def __init__(self, coefficients):\n",
    "        self.coeff = coefficients\n",
    "        \n",
    "    def __call__(self, x):\n",
    "        p = 0\n",
    "        for i in range(len(self.coeff)):\n",
    "            p += self.coeff[i]*x**i\n",
    "            \n",
    "        return p\n",
    "    \n",
    "    def __add__(self, other):\n",
    "        # start with the longer list of coefficents and add the other list\n",
    "        if len(self.coeff) > len(other.coeff):\n",
    "            sum_coeff = self.coeff\n",
    "            for i in range(len(other.coeff)):\n",
    "                sum_coeff[i] += other.coeff[i]\n",
    "                \n",
    "        else:\n",
    "            sum_coeff = other.coeff\n",
    "            for i in range(len(self.coeff)):\n",
    "                sum_coeff[i] += self.coeff[i]\n",
    "                \n",
    "        return Polynomial(sum_coeff)"
   ]
  },
  {
   "cell_type": "code",
   "execution_count": 39,
   "metadata": {
    "slideshow": {
     "slide_type": "subslide"
    }
   },
   "outputs": [
    {
     "name": "stdout",
     "output_type": "stream",
     "text": [
      "p(0.5) = 3.0\n"
     ]
    }
   ],
   "source": [
    "p = Polynomial([1,2,4])\n",
    "x = 0.5\n",
    "print(f\"p({x}) = {p(x)}\")"
   ]
  },
  {
   "cell_type": "markdown",
   "metadata": {
    "slideshow": {
     "slide_type": "subslide"
    }
   },
   "source": [
    "Note that we no longer need an `evaluate` function. A good convention is to include a `__call__` method in all classes that represent a mathematical function.\n",
    "\n",
    "Objects that include a `__call__` method are said to be *callable objects*. Plain functions are also called callable. \n",
    "\n",
    "The function `callable(a)` tests  whether `a` behaves as a callable, i.e. if `a` is a function or an object with a `__call__` method."
   ]
  },
  {
   "cell_type": "code",
   "execution_count": 21,
   "metadata": {},
   "outputs": [
    {
     "data": {
      "text/plain": [
       "True"
      ]
     },
     "execution_count": 21,
     "metadata": {},
     "output_type": "execute_result"
    }
   ],
   "source": [
    "callable(p)"
   ]
  },
  {
   "cell_type": "markdown",
   "metadata": {
    "slideshow": {
     "slide_type": "subslide"
    }
   },
   "source": [
    "## Other Special Methods\n",
    "\n",
    "Given two objects `a` and `b` the standard arithmetic operators are defined by the following special methods:\n",
    "* `a + b` : `a.__add__(b)`\n",
    "* `a - b` : `a.__sub__(b)`\n",
    "* `a * b` : `a.__mul__(b)`\n",
    "* `a / b` : `a.__truediv__(b)`\n",
    "* `a ** b` : `a.__pow__(b)`"
   ]
  },
  {
   "cell_type": "markdown",
   "metadata": {
    "slideshow": {
     "slide_type": "subslide"
    }
   },
   "source": [
    "In addition, there are other non arithmetic special methods:\n",
    "\n",
    "* `len(a)` : `a.__len__()`\n",
    "* `abs(a)` : `a.__abs__()`\n",
    "* `a == b` : `a.__eq__(b)`\n",
    "* `a > b` : `a.__gt__(b)`\n",
    "* `a >= b` : `a.__ge__(b)`\n",
    "* `a < b` : `a.__lt__(b)`\n",
    "* `a <= b` : `a.__le__(b)`\n",
    "\n",
    "There is also a  `__str__` method that returns a string representation of our object. This allows us to call `print` with our object as a parameter."
   ]
  },
  {
   "cell_type": "markdown",
   "metadata": {
    "slideshow": {
     "slide_type": "subslide"
    }
   },
   "source": [
    "## Exercise\n",
    "\n",
    "Add the following special methods to the `Point` class:\n",
    "* `__add__`\n",
    "* `__sub__`\n",
    "* `__neg__`\n",
    "* `__abs__` - returns the magnitude of the point (the distance from the origin)\n",
    "* `__eq__` - checks if both the x and y coordinates of two points are equal\n",
    "* `__str__` - returns a string representation of the point, i.e. \"(x,y)\""
   ]
  },
  {
   "cell_type": "code",
   "execution_count": 53,
   "metadata": {
    "slideshow": {
     "slide_type": "slide"
    }
   },
   "outputs": [],
   "source": [
    "class Point:\n",
    "    def __init__(self, x=0, y=0):\n",
    "        # x and y are optional, the default value for both is 0\n",
    "        self.x = x\n",
    "        self.y = y\n",
    "   \n",
    "    def scale(self, factor):\n",
    "        self.x *= factor\n",
    "        self.y *= factor\n",
    "   \n",
    "    def distance(self, other):\n",
    "        dx = self.x - other.x\n",
    "        dy = self.y - other.y \n",
    "        return np.sqrt(dx**2 + dy**2)\n",
    "    \n",
    "    def normalize(self):\n",
    "        mag = self.distance(Point())\n",
    "        if mag > 0:\n",
    "            self.scale(1/mag)"
   ]
  },
  {
   "cell_type": "code",
   "execution_count": 54,
   "metadata": {
    "slideshow": {
     "slide_type": "subslide"
    }
   },
   "outputs": [
    {
     "name": "stdout",
     "output_type": "stream",
     "text": [
      "<__main__.Point object at 0x11d1a3908>\n"
     ]
    },
    {
     "ename": "TypeError",
     "evalue": "unsupported operand type(s) for +: 'Point' and 'Point'",
     "output_type": "error",
     "traceback": [
      "\u001b[0;31m---------------------------------------------------------------------------\u001b[0m",
      "\u001b[0;31mTypeError\u001b[0m                                 Traceback (most recent call last)",
      "\u001b[0;32m<ipython-input-54-4ce512c2329e>\u001b[0m in \u001b[0;36m<module>\u001b[0;34m()\u001b[0m\n\u001b[1;32m      6\u001b[0m \u001b[0;34m\u001b[0m\u001b[0m\n\u001b[1;32m      7\u001b[0m \u001b[0;31m# test __add__ method\u001b[0m\u001b[0;34m\u001b[0m\u001b[0;34m\u001b[0m\u001b[0m\n\u001b[0;32m----> 8\u001b[0;31m \u001b[0mp3\u001b[0m \u001b[0;34m=\u001b[0m \u001b[0mp1\u001b[0m \u001b[0;34m+\u001b[0m \u001b[0mp2\u001b[0m\u001b[0;34m\u001b[0m\u001b[0m\n\u001b[0m\u001b[1;32m      9\u001b[0m \u001b[0mprint\u001b[0m\u001b[0;34m(\u001b[0m\u001b[0mp3\u001b[0m\u001b[0;34m)\u001b[0m\u001b[0;34m\u001b[0m\u001b[0m\n\u001b[1;32m     10\u001b[0m \u001b[0;34m\u001b[0m\u001b[0m\n",
      "\u001b[0;31mTypeError\u001b[0m: unsupported operand type(s) for +: 'Point' and 'Point'"
     ]
    }
   ],
   "source": [
    "p1 = Point(1,1)\n",
    "p2 = Point(1.8,2)\n",
    "\n",
    "# test __str__ method\n",
    "print(p1)\n",
    "\n",
    "# test __add__ method\n",
    "p3 = p1 + p2\n",
    "print(p3)\n",
    "\n",
    "# test __sub__ method\n",
    "p4 = p1 - p2\n",
    "print(p4)\n",
    "\n",
    "# test __neg__ method\n",
    "p5 = -p1\n",
    "print(p5)\n",
    "\n",
    "# test __eq__method\n",
    "print(p1 == p2)\n",
    "print(p1 == p2 - Point(0.8,1))"
   ]
  }
 ],
 "metadata": {
  "celltoolbar": "Slideshow",
  "kernelspec": {
   "display_name": "Python 3",
   "language": "python",
   "name": "python3"
  },
  "language_info": {
   "codemirror_mode": {
    "name": "ipython",
    "version": 3
   },
   "file_extension": ".py",
   "mimetype": "text/x-python",
   "name": "python",
   "nbconvert_exporter": "python",
   "pygments_lexer": "ipython3",
   "version": "3.6.5"
  }
 },
 "nbformat": 4,
 "nbformat_minor": 2
}
