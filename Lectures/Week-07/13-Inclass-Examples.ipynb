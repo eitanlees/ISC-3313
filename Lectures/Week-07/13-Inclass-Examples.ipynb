{
 "cells": [
  {
   "cell_type": "markdown",
   "metadata": {},
   "source": [
    "## Exercise 1"
   ]
  },
  {
   "cell_type": "code",
   "execution_count": 1,
   "metadata": {},
   "outputs": [],
   "source": [
    "class Rectangle:\n",
    "    def __init__(self, w, h):\n",
    "        self.w = w\n",
    "        self.h = h\n",
    "    \n",
    "    def scale_width(self, factor):\n",
    "        self.w *= factor\n",
    "    \n",
    "    def scale_height(self, factor):\n",
    "        self.h *= factor\n",
    "        \n",
    "    def area(self):\n",
    "        return self.w * self.h"
   ]
  },
  {
   "cell_type": "code",
   "execution_count": 2,
   "metadata": {},
   "outputs": [],
   "source": [
    "R1 = Rectangle(5, 4)"
   ]
  },
  {
   "cell_type": "code",
   "execution_count": 3,
   "metadata": {},
   "outputs": [
    {
     "data": {
      "text/plain": [
       "20"
      ]
     },
     "execution_count": 3,
     "metadata": {},
     "output_type": "execute_result"
    }
   ],
   "source": [
    "R1.area()"
   ]
  },
  {
   "cell_type": "code",
   "execution_count": 4,
   "metadata": {},
   "outputs": [],
   "source": [
    "R1.scale_width(2)"
   ]
  },
  {
   "cell_type": "code",
   "execution_count": 5,
   "metadata": {},
   "outputs": [
    {
     "data": {
      "text/plain": [
       "40"
      ]
     },
     "execution_count": 5,
     "metadata": {},
     "output_type": "execute_result"
    }
   ],
   "source": [
    "R1.area()"
   ]
  },
  {
   "cell_type": "markdown",
   "metadata": {},
   "source": [
    "## Exercise 2"
   ]
  },
  {
   "cell_type": "code",
   "execution_count": 6,
   "metadata": {},
   "outputs": [],
   "source": [
    "class Point:\n",
    "    def __init__(self, x=0, y=0):\n",
    "        # x and y are optional, the default value for both is 0\n",
    "        self.x = x\n",
    "        self.y = y\n",
    "   \n",
    "    def scale(self, factor):\n",
    "        self.x *= factor\n",
    "        self.y *= factor\n",
    "   \n",
    "    def distance(self, other):\n",
    "        dx = self.x - other.x\n",
    "        dy = self.y - other.y \n",
    "        return np.sqrt(dx**2 + dy**2)\n",
    "    \n",
    "    def normalize(self):\n",
    "        mag = self.distance(Point())\n",
    "        if mag > 0:\n",
    "            self.scale(1/mag)\n",
    "    \n",
    "    def __add__(self, other):\n",
    "        return Point(self.x + other.x, self.y + other.y)\n",
    "    \n",
    "    def __sub__(self, other):\n",
    "        return Point(self.x - other.x, self.y - other.y)\n",
    "    \n",
    "    def __neg__(self):\n",
    "        return Point(-self.x, -self.y)\n",
    "    \n",
    "    def __abs__(self):\n",
    "        return self.distance(Point())\n",
    "    \n",
    "    def __eq__(self, other):\n",
    "        return self.x == other.x and self.y == other.y\n",
    "    \n",
    "    def __str__(self):\n",
    "        return f'({self.x}, {self.y})'"
   ]
  },
  {
   "cell_type": "code",
   "execution_count": 7,
   "metadata": {},
   "outputs": [
    {
     "name": "stdout",
     "output_type": "stream",
     "text": [
      "(1, 1)\n",
      "(2.8, 3)\n",
      "(-0.8, -1)\n",
      "(-1, -1)\n",
      "False\n",
      "True\n"
     ]
    }
   ],
   "source": [
    "p1 = Point(1,1)\n",
    "p2 = Point(1.8,2)\n",
    "\n",
    "# test __str__ method\n",
    "print(p1)\n",
    "\n",
    "# test __add__ method\n",
    "p3 = p1 + p2\n",
    "print(p3)\n",
    "\n",
    "# test __sub__ method\n",
    "p4 = p1 - p2\n",
    "print(p4)\n",
    "\n",
    "# test __neg__ method\n",
    "p5 = -p1\n",
    "print(p5)\n",
    "\n",
    "# test __eq__method\n",
    "print(p1 == p2)\n",
    "print(p1 == p2 - Point(0.8,1))"
   ]
  }
 ],
 "metadata": {
  "kernelspec": {
   "display_name": "Python 3",
   "language": "python",
   "name": "python3"
  },
  "language_info": {
   "codemirror_mode": {
    "name": "ipython",
    "version": 3
   },
   "file_extension": ".py",
   "mimetype": "text/x-python",
   "name": "python",
   "nbconvert_exporter": "python",
   "pygments_lexer": "ipython3",
   "version": "3.6.5"
  }
 },
 "nbformat": 4,
 "nbformat_minor": 2
}
