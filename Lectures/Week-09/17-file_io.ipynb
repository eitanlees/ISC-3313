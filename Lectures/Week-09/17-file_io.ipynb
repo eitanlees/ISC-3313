{
 "cells": [
  {
   "cell_type": "markdown",
   "metadata": {
    "slideshow": {
     "slide_type": "slide"
    }
   },
   "source": [
    "# File I/O\n",
    "\n",
    "<div align='center'><img src='https://raw.githubusercontent.com/eitanlees/ISC-3313/master/images/scribe.gif' width='35%'/></div>"
   ]
  },
  {
   "cell_type": "markdown",
   "metadata": {
    "slideshow": {
     "slide_type": "subslide"
    }
   },
   "source": [
    "In todays lecture we will learn how to read and write files in python"
   ]
  },
  {
   "cell_type": "markdown",
   "metadata": {
    "slideshow": {
     "slide_type": "subslide"
    }
   },
   "source": [
    "There are a wide variety of file types out there but we will focus on two today\n",
    "\n",
    "- text data\n",
    "- numerical data"
   ]
  },
  {
   "cell_type": "markdown",
   "metadata": {
    "slideshow": {
     "slide_type": "fragment"
    }
   },
   "source": [
    "We will use pythons built in feature to explore text data and numpy for numerical data. "
   ]
  },
  {
   "cell_type": "markdown",
   "metadata": {
    "slideshow": {
     "slide_type": "slide"
    }
   },
   "source": [
    "## Reading text files\n",
    "\n",
    "The basic syntax for reading a text file is as follows:\n",
    "\n",
    "```python\n",
    "    file_object = open(filename, mode)\n",
    "```\n",
    "\n",
    "Where `filename` is a string to the file you want to read and `mode` tells the open function what you want to do with the file"
   ]
  },
  {
   "cell_type": "markdown",
   "metadata": {
    "slideshow": {
     "slide_type": "subslide"
    }
   },
   "source": [
    "There are are few things one might want to do with a file:\n",
    "\n",
    "- 'w' – **Write Mode**: This mode is used when the file needs to be altered and information changed or added. Keep in mind that this erases the existing file to create a new one. File pointer is placed at the beginning of the file.\n",
    "\n",
    "- 'r' – **Read Mode**: This mode is used when the information in the file is only meant to be read and not changed in any way. File pointer is placed at the beginning of the file.\n",
    "\n",
    "- 'a' – **Append Mode**: This mode adds information to the end of the file automatically. File pointer is placed at the end of the file."
   ]
  },
  {
   "cell_type": "markdown",
   "metadata": {
    "slideshow": {
     "slide_type": "subslide"
    }
   },
   "source": [
    "There are also some hybrid modes:\n",
    "\n",
    "- 'r+' – **Read/Write Mode**: This is used when you will be making changes to the file and reading information from it. The file pointer is placed at the beginning of the file.\n",
    "\n",
    "- 'a+' – **Append and Read Mode**: A file is opened to allow data to be added to the end of the file and lets your program read information as well. File pointer is placed at the end of the file."
   ]
  },
  {
   "cell_type": "markdown",
   "metadata": {
    "slideshow": {
     "slide_type": "slide"
    }
   },
   "source": [
    "Lets open a file and see what methods are available for the `file_object`"
   ]
  },
  {
   "cell_type": "code",
   "execution_count": 4,
   "metadata": {
    "slideshow": {
     "slide_type": "-"
    }
   },
   "outputs": [
    {
     "data": {
      "text/plain": [
       "<_io.TextIOWrapper name='data/ArthurAndDennis.txt' mode='r' encoding='UTF-8'>"
      ]
     },
     "execution_count": 4,
     "metadata": {},
     "output_type": "execute_result"
    }
   ],
   "source": [
    "f = open('data/ArthurAndDennis.txt', 'r')\n",
    "f"
   ]
  },
  {
   "cell_type": "markdown",
   "metadata": {
    "slideshow": {
     "slide_type": "subslide"
    }
   },
   "source": [
    "Now we can use the file object"
   ]
  },
  {
   "cell_type": "code",
   "execution_count": 6,
   "metadata": {},
   "outputs": [
    {
     "data": {
      "text/plain": [
       "[\"Dennis: I'm 37! I'm not old!\\n\",\n",
       " 'Arthur: Well, I can\\'t just call you \"man\".\\n',\n",
       " 'Dennis: You could say \"Dennis\".\\n',\n",
       " \"Arthur: I didn't know you were called Dennis.\\n\",\n",
       " \"Dennis: Well you didn't bother to find out, did you?\\n\",\n",
       " 'Arthur: I did say I\\'m sorry about the \"old woman\", but from behind you looked...\\n']"
      ]
     },
     "execution_count": 6,
     "metadata": {},
     "output_type": "execute_result"
    }
   ],
   "source": [
    "script = f.readlines()\n",
    "script"
   ]
  },
  {
   "cell_type": "markdown",
   "metadata": {
    "slideshow": {
     "slide_type": "subslide"
    }
   },
   "source": [
    "Once you are done working with a file you should always close it using "
   ]
  },
  {
   "cell_type": "code",
   "execution_count": 7,
   "metadata": {},
   "outputs": [],
   "source": [
    "f.close()"
   ]
  },
  {
   "cell_type": "markdown",
   "metadata": {
    "slideshow": {
     "slide_type": "fragment"
    }
   },
   "source": [
    "After a file is closed it cannot be accessed "
   ]
  },
  {
   "cell_type": "code",
   "execution_count": 8,
   "metadata": {},
   "outputs": [
    {
     "ename": "ValueError",
     "evalue": "I/O operation on closed file.",
     "output_type": "error",
     "traceback": [
      "\u001b[0;31m---------------------------------------------------------------------------\u001b[0m",
      "\u001b[0;31mValueError\u001b[0m                                Traceback (most recent call last)",
      "\u001b[0;32m<ipython-input-8-571e9fb02258>\u001b[0m in \u001b[0;36m<module>\u001b[0;34m()\u001b[0m\n\u001b[0;32m----> 1\u001b[0;31m \u001b[0mf\u001b[0m\u001b[0;34m.\u001b[0m\u001b[0mread\u001b[0m\u001b[0;34m(\u001b[0m\u001b[0;34m)\u001b[0m\u001b[0;34m\u001b[0m\u001b[0m\n\u001b[0m",
      "\u001b[0;31mValueError\u001b[0m: I/O operation on closed file."
     ]
    }
   ],
   "source": [
    "f.read()"
   ]
  },
  {
   "cell_type": "markdown",
   "metadata": {
    "slideshow": {
     "slide_type": "subslide"
    }
   },
   "source": [
    "Sometimes people forget to close files and it can cause trouble. The best way to avoid this is to use the `with` keyword to nest the file interactions. "
   ]
  },
  {
   "cell_type": "code",
   "execution_count": 10,
   "metadata": {},
   "outputs": [
    {
     "name": "stdout",
     "output_type": "stream",
     "text": [
      "Arthur: Old woman!\n",
      "\n",
      "Dennis: MAN!\n",
      "\n",
      "Arthur: Man, sorry. What knight lives in that castle over there?\n",
      "\n",
      "Dennis: I'm 37.\n",
      "\n",
      "Arthur: What?\n",
      "\n",
      "Dennis: I'm 37! I'm not old!\n",
      "\n",
      "Arthur: Well, I can't just call you \"man\".\n",
      "\n",
      "Dennis: You could say \"Dennis\".\n",
      "\n",
      "Arthur: I didn't know you were called Dennis.\n",
      "\n",
      "Dennis: Well you didn't bother to find out, did you?\n",
      "\n",
      "Arthur: I did say I'm sorry about the \"old woman\", but from behind you looked...\n",
      "\n",
      "Dennis: What I object to is you automatically treatin' me like an inferior.\n",
      "\n",
      "Arthur: Well, I am king.\n",
      "\n",
      "Dennis: Oh, king, eh - very nice. And how'd you get that, then? By exploiting the\n",
      "\n",
      "workers! By hanging on to outdated imperialist dogma which perpetuates the\n",
      "\n",
      "economic and social differences in our society. If there's ever going to be any\n",
      "\n",
      "progress...\n",
      "\n",
      "Dennis' Mother: Dennis, Dennis! There's some lovely filth down here. Oh, how'd\n",
      "\n",
      "you do?\n",
      "\n",
      "Arthur: How'd you do good lady? I am Arthur, king of the Britons. Whose castle\n",
      "\n",
      "is that?\n",
      "\n",
      "Dennis' Mother: King of the who?\n",
      "\n",
      "Arthur: The Britons.\n",
      "\n",
      "Dennis' Mother: Who are the Britons?\n",
      "\n",
      "Arthur: We all are. We are all Britons, and I am your king.\n",
      "\n",
      "Dennis' Mother: I didn't know we had a king. I thought we were an autonomous\n",
      "\n",
      "collective. \n"
     ]
    }
   ],
   "source": [
    "with open('data/ArthurAndDennis.txt', 'r') as text_file:\n",
    "    for line in text_file:\n",
    "        print(line)"
   ]
  },
  {
   "cell_type": "markdown",
   "metadata": {
    "slideshow": {
     "slide_type": "slide"
    }
   },
   "source": [
    "## Exercise\n",
    "\n",
    "Read the file `data/gettysburg.txt`. Print out each line along with the line number. (hint: use `enumerate`). For example: \n",
    "\n",
    "    0: Four score and seven years ago our fathers brought forth on this\n",
    "\n",
    "    1: continent a new nation, conceived in liberty and dedicated to the\n",
    "\n",
    "    2: proposition that all men are created equal. Now we are engaged in\n",
    "    \n",
    "    etc ..."
   ]
  },
  {
   "cell_type": "markdown",
   "metadata": {
    "slideshow": {
     "slide_type": "slide"
    }
   },
   "source": [
    "## Exercise\n",
    "\n",
    "Read the file `data/sonnets.txt` which contain all of the sonnets by William Shakespeare. \n",
    "\n",
    "Count the number of times the word \"love\" or \"Love\" appears. "
   ]
  },
  {
   "cell_type": "markdown",
   "metadata": {
    "slideshow": {
     "slide_type": "slide"
    }
   },
   "source": [
    "## Writing to a file\n",
    "\n",
    "So far we have only read the contents of a file but we also can write to a file. "
   ]
  },
  {
   "cell_type": "markdown",
   "metadata": {
    "slideshow": {
     "slide_type": "subslide"
    }
   },
   "source": [
    "When creating a file for the first time, you should either use the `a+` or `w+` modes.\n",
    "\n",
    "Often it's preferable to use the `a+` mode because the data will default to be added to the end of the file. \n",
    "\n",
    "Using `w+` will clear out any existing data in the file and give you a \"blank slate\"to start from."
   ]
  },
  {
   "cell_type": "markdown",
   "metadata": {
    "slideshow": {
     "slide_type": "subslide"
    }
   },
   "source": [
    "Let's create `grade_book.txt` based on the example from last class"
   ]
  },
  {
   "cell_type": "code",
   "execution_count": 11,
   "metadata": {},
   "outputs": [],
   "source": [
    "students = [\"Emily\", \"Jacob\", \"Emma\", \"Madison\", \"Matthew\", \"Hailey\", \"Nicholas\", \"Sarah\", \"Joshua\"]\n",
    "grades = [81, 81, 92, 79, 79, 82, 99, 94, 87]\n",
    "\n",
    "with open('grade_book.txt', 'w+') as file:\n",
    "    for index, (person, grade) in enumerate(zip(students, grades)):\n",
    "        file.write(f'{index + 1}. {person}: {grade} \\n')\n"
   ]
  },
  {
   "cell_type": "code",
   "execution_count": 12,
   "metadata": {
    "slideshow": {
     "slide_type": "subslide"
    }
   },
   "outputs": [
    {
     "name": "stdout",
     "output_type": "stream",
     "text": [
      "17-Inclass-Exercises.ipynb  data.zip\r\n",
      "17-file_io.ipynb            grade_book.txt\r\n",
      "Untitled.ipynb              hello_with_input.py\r\n",
      "commandline_arguments.py    \u001b[34mimages\u001b[m\u001b[m/\r\n",
      "count_down.py               magic_number.py\r\n",
      "\u001b[34mdata\u001b[m\u001b[m/                       my_data.txt\r\n"
     ]
    }
   ],
   "source": [
    "ls"
   ]
  },
  {
   "cell_type": "code",
   "execution_count": 13,
   "metadata": {},
   "outputs": [
    {
     "name": "stdout",
     "output_type": "stream",
     "text": [
      "1. Emily: 81 \r\n",
      "2. Jacob: 81 \r\n",
      "3. Emma: 92 \r\n",
      "4. Madison: 79 \r\n",
      "5. Matthew: 79 \r\n",
      "6. Hailey: 82 \r\n",
      "7. Nicholas: 99 \r\n",
      "8. Sarah: 94 \r\n",
      "9. Joshua: 87 \r\n"
     ]
    }
   ],
   "source": [
    "cat grade_book.txt"
   ]
  },
  {
   "cell_type": "markdown",
   "metadata": {
    "slideshow": {
     "slide_type": "subslide"
    }
   },
   "source": [
    "The `\\n` acts as the new line indicator, moving subsequent writes to the next line.\n",
    "\n",
    "If you want to write something that isn't a string to a text file, such as a series of numbers, you have to convert or \"cast\" them to strings, using conversion code."
   ]
  },
  {
   "cell_type": "markdown",
   "metadata": {
    "slideshow": {
     "slide_type": "slide"
    }
   },
   "source": [
    "## Exercise\n",
    "\n",
    "Let's revisit an example from before. \n",
    "\n",
    "A leap year is exactly divisible by 4 except for century years (years ending with 00). The century year is a leap year only if it is perfectly divisible by 400. For example,\n",
    "\n",
    "    2017 is not a leap year\n",
    "    1900 is a not leap year\n",
    "    2012 is a leap year\n",
    "    2000 is a leap year\n",
    "    \n",
    "This time loop over all years in `year_list` and instead of printing, write out the results to a file `leap_year.txt`"
   ]
  },
  {
   "cell_type": "code",
   "execution_count": 51,
   "metadata": {
    "slideshow": {
     "slide_type": "slide"
    }
   },
   "outputs": [],
   "source": [
    "year_list = [2017, 1900, 2012, 2000, 1111, 1554, 1315, 1342, 1520, 1988, 1834, 1319, 1739, 1846, 1282,\n",
    "       1891, 1260, 1488, 1911, 2009, 1772, 1048, 1428, 1150]"
   ]
  },
  {
   "cell_type": "markdown",
   "metadata": {
    "slideshow": {
     "slide_type": "slide"
    }
   },
   "source": [
    "## Numerical data\n",
    "\n",
    "Often we are only interested in numerical data and luckily numpy has some convenient functions to help with file IO\n",
    "\n",
    "- `np.loadtxt()`\tLoad data from a text file.\n",
    "- `np.savetxt()`\tSave an array to a text file."
   ]
  },
  {
   "cell_type": "code",
   "execution_count": 14,
   "metadata": {
    "slideshow": {
     "slide_type": "fragment"
    }
   },
   "outputs": [
    {
     "name": "stdout",
     "output_type": "stream",
     "text": [
      "[[ 1  2  3]\n",
      " [ 4  5  6]\n",
      " [ 7  8  9]\n",
      " [10 11 12]]\n"
     ]
    }
   ],
   "source": [
    "import numpy as np\n",
    "x = np.arange(1, 13).reshape(4, 3)\n",
    "print(x)"
   ]
  },
  {
   "cell_type": "code",
   "execution_count": 15,
   "metadata": {
    "slideshow": {
     "slide_type": "subslide"
    }
   },
   "outputs": [],
   "source": [
    "np.savetxt('my_data.txt', x)"
   ]
  },
  {
   "cell_type": "code",
   "execution_count": 16,
   "metadata": {
    "slideshow": {
     "slide_type": "fragment"
    }
   },
   "outputs": [
    {
     "name": "stdout",
     "output_type": "stream",
     "text": [
      "1.000000000000000000e+00 2.000000000000000000e+00 3.000000000000000000e+00\r\n",
      "4.000000000000000000e+00 5.000000000000000000e+00 6.000000000000000000e+00\r\n",
      "7.000000000000000000e+00 8.000000000000000000e+00 9.000000000000000000e+00\r\n",
      "1.000000000000000000e+01 1.100000000000000000e+01 1.200000000000000000e+01\r\n"
     ]
    }
   ],
   "source": [
    "cat my_data.txt"
   ]
  },
  {
   "cell_type": "markdown",
   "metadata": {
    "slideshow": {
     "slide_type": "subslide"
    }
   },
   "source": [
    "We can also pass `np.savetxt` optional parameters for formmating as well as delimiters. "
   ]
  },
  {
   "cell_type": "code",
   "execution_count": 17,
   "metadata": {
    "slideshow": {
     "slide_type": "fragment"
    }
   },
   "outputs": [],
   "source": [
    "np.savetxt('my_data.csv', x, fmt='%d', delimiter=', ')"
   ]
  },
  {
   "cell_type": "code",
   "execution_count": 18,
   "metadata": {
    "slideshow": {
     "slide_type": "fragment"
    }
   },
   "outputs": [
    {
     "name": "stdout",
     "output_type": "stream",
     "text": [
      "1, 2, 3\r\n",
      "4, 5, 6\r\n",
      "7, 8, 9\r\n",
      "10, 11, 12\r\n"
     ]
    }
   ],
   "source": [
    "cat my_data.csv"
   ]
  },
  {
   "cell_type": "markdown",
   "metadata": {
    "slideshow": {
     "slide_type": "subslide"
    }
   },
   "source": [
    "`np.loadtxt` is similar but performs the opposite action and reads data into a numpy array"
   ]
  },
  {
   "cell_type": "code",
   "execution_count": 19,
   "metadata": {
    "slideshow": {
     "slide_type": "fragment"
    }
   },
   "outputs": [],
   "source": [
    "x = np.loadtxt('my_data.csv', delimiter=', ')"
   ]
  },
  {
   "cell_type": "code",
   "execution_count": 20,
   "metadata": {},
   "outputs": [
    {
     "name": "stdout",
     "output_type": "stream",
     "text": [
      "[[ 1.  2.  3.]\n",
      " [ 4.  5.  6.]\n",
      " [ 7.  8.  9.]\n",
      " [10. 11. 12.]]\n"
     ]
    }
   ],
   "source": [
    "print(x)"
   ]
  },
  {
   "cell_type": "markdown",
   "metadata": {
    "slideshow": {
     "slide_type": "slide"
    }
   },
   "source": [
    "## Exercise\n",
    "\n",
    "Load the file `data/blobs.txt` directly into a numpy array and create a plot. Note there is a non-standard delimiter. "
   ]
  },
  {
   "cell_type": "markdown",
   "metadata": {
    "slideshow": {
     "slide_type": "slide"
    }
   },
   "source": [
    "## Exercise\n",
    "\n",
    "Create a plot of \n",
    "\n",
    "$$\n",
    "y=\\frac{1}{4}x^3+\\frac{3}{4}x^2-\\frac{3}{2}x-2\n",
    "$$\n",
    "\n",
    "\n",
    "from $x = [-5, 3]$ and save the `xy` data points in a single file called `inclass_data.txt` with a comma as a delimiter. "
   ]
  },
  {
   "cell_type": "markdown",
   "metadata": {
    "slideshow": {
     "slide_type": "slide"
    }
   },
   "source": [
    "## User Interaction"
   ]
  },
  {
   "cell_type": "markdown",
   "metadata": {},
   "source": [
    "As a final topic for today I wanted to show how python can be used along user input. "
   ]
  },
  {
   "cell_type": "markdown",
   "metadata": {
    "slideshow": {
     "slide_type": "subslide"
    }
   },
   "source": [
    "The simplest way to get user input into a python program is to use the `input` function."
   ]
  },
  {
   "cell_type": "code",
   "execution_count": 21,
   "metadata": {},
   "outputs": [
    {
     "name": "stdout",
     "output_type": "stream",
     "text": [
      "What is your name?  Eitan\n",
      "Hello Eitan\n"
     ]
    }
   ],
   "source": [
    "name = input('What is your name?  ')\n",
    "print('Hello', name)"
   ]
  },
  {
   "cell_type": "markdown",
   "metadata": {
    "slideshow": {
     "slide_type": "fragment"
    }
   },
   "source": [
    "Note that the `input` function always returns a string, so if you want to input numbers you will have to convert them before using them. "
   ]
  },
  {
   "cell_type": "markdown",
   "metadata": {
    "slideshow": {
     "slide_type": "slide"
    }
   },
   "source": [
    "## Exercise \n",
    "\n",
    "Create a program which asks the user to guess what number it is thinking of between 1 and 10. \n",
    "\n",
    "Let the user know if their guess is above, below, or correct. \n",
    "\n",
    "Prompt the user until they answer correctly. "
   ]
  },
  {
   "cell_type": "markdown",
   "metadata": {
    "slideshow": {
     "slide_type": "slide"
    }
   },
   "source": [
    "When running python on the command line it is often useful to include extra command line arguments to define parameters. Such as\n",
    "\n",
    "    python my_program.py argument1 argument2"
   ]
  },
  {
   "cell_type": "markdown",
   "metadata": {
    "slideshow": {
     "slide_type": "fragment"
    }
   },
   "source": [
    "The simplest way to access these extra command line arguments is with the `sys` module. "
   ]
  },
  {
   "cell_type": "markdown",
   "metadata": {
    "slideshow": {
     "slide_type": "subslide"
    }
   },
   "source": [
    "This technique is only applicable when working with stand alone scripts so we will flip back and forth for the examples. "
   ]
  },
  {
   "cell_type": "markdown",
   "metadata": {
    "slideshow": {
     "slide_type": "subslide"
    }
   },
   "source": [
    "The `sys` module keeps track of all of the parameters from the command line and stores them in a list called `sys.argv`"
   ]
  },
  {
   "cell_type": "markdown",
   "metadata": {
    "slideshow": {
     "slide_type": "fragment"
    }
   },
   "source": [
    "This list contains all of the words that come after the `python` command seperated by spaces. \n",
    "\n",
    "That means that the first element of `sys.argv` will always be the name of the program you are running. "
   ]
  },
  {
   "cell_type": "markdown",
   "metadata": {
    "slideshow": {
     "slide_type": "subslide"
    }
   },
   "source": [
    "Let's look at some examples:\n",
    "\n",
    "- `commandline_arguments.py`\n",
    "- `count_down.py`"
   ]
  },
  {
   "cell_type": "markdown",
   "metadata": {
    "slideshow": {
     "slide_type": "slide"
    }
   },
   "source": [
    "## Exercise \n",
    "\n",
    "Rewrite the previous number guessing program as a stand alone script which uses two command line arguments to define the lower and upper bound of the range of numbers. \n",
    "\n",
    "For example:\n",
    "\n",
    "    $ python number_guess.py 5 30\n",
    "    \n",
    "would guess a number between 5 and 30"
   ]
  }
 ],
 "metadata": {
  "celltoolbar": "Slideshow",
  "kernelspec": {
   "display_name": "Python 3",
   "language": "python",
   "name": "python3"
  },
  "language_info": {
   "codemirror_mode": {
    "name": "ipython",
    "version": 3
   },
   "file_extension": ".py",
   "mimetype": "text/x-python",
   "name": "python",
   "nbconvert_exporter": "python",
   "pygments_lexer": "ipython3",
   "version": "3.6.5"
  }
 },
 "nbformat": 4,
 "nbformat_minor": 2
}
