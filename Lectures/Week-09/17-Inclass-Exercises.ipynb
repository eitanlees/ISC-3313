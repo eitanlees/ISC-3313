{
 "cells": [
  {
   "cell_type": "markdown",
   "metadata": {},
   "source": [
    "# In class Examples for Lecture 17"
   ]
  },
  {
   "cell_type": "markdown",
   "metadata": {},
   "source": [
    "## Exercise One"
   ]
  },
  {
   "cell_type": "code",
   "execution_count": 1,
   "metadata": {},
   "outputs": [
    {
     "name": "stdout",
     "output_type": "stream",
     "text": [
      "0: Four score and seven years ago our fathers brought forth on this\n",
      "\n",
      "1: continent a new nation, conceived in liberty and dedicated to the\n",
      "\n",
      "2: proposition that all men are created equal. Now we are engaged in\n",
      "\n",
      "3: a great civil war, testing whether that nation or any nation so\n",
      "\n",
      "4: conceived and so dedicated can long endure. We are met on a great\n",
      "\n",
      "5: battlefield of that war. We have come to dedicate a portion of\n",
      "\n",
      "6: that field as a final resting-place for those who here gave their\n",
      "\n",
      "7: lives that that nation might live. It is altogether fitting and\n",
      "\n",
      "8: proper that we should do this. But in a larger sense, we cannot\n",
      "\n",
      "9: dedicate, we cannot consecrate, we cannot hallow this ground.\n",
      "\n",
      "10: The brave men, living and dead who struggled here have consecrated\n",
      "\n",
      "11: it far above our poor power to add or detract. The world will\n",
      "\n",
      "12: little note nor long remember what we say here, but it can never\n",
      "\n",
      "13: forget what they did here. It is for us the living rather to be\n",
      "\n",
      "14: dedicated here to the unfinished work which they who fought here\n",
      "\n",
      "15: have thus far so nobly advanced. It is rather for us to be here\n",
      "\n",
      "16: dedicated to the great task remaining before us--that from these\n",
      "\n",
      "17: honored dead we take increased devotion to that cause for which\n",
      "\n",
      "18: they gave the last full measure of devotion--that we here highly\n",
      "\n",
      "19: resolve that these dead shall not have died in vain, that this\n",
      "\n",
      "20: nation under God shall have a new birth of freedom, and that\n",
      "\n",
      "21: government of the people, by the people, for the people shall\n",
      "\n",
      "22: not perish from the earth.\n",
      "\n"
     ]
    }
   ],
   "source": [
    "with open('data/gettysburg.txt', 'r') as file:\n",
    "    for i, line in enumerate(file):\n",
    "        print(f'{i}: {line}')"
   ]
  },
  {
   "cell_type": "markdown",
   "metadata": {},
   "source": [
    "## Exercise Two"
   ]
  },
  {
   "cell_type": "code",
   "execution_count": 2,
   "metadata": {},
   "outputs": [
    {
     "name": "stdout",
     "output_type": "stream",
     "text": [
      "205\n"
     ]
    }
   ],
   "source": [
    "with open('data/sonnets.txt', 'r') as file:\n",
    "    count = 0\n",
    "    for line in file:\n",
    "        if 'love' in line.lower():\n",
    "            count += 1\n",
    "print(count)"
   ]
  },
  {
   "cell_type": "markdown",
   "metadata": {},
   "source": [
    "## Exercise Three"
   ]
  },
  {
   "cell_type": "code",
   "execution_count": 3,
   "metadata": {},
   "outputs": [],
   "source": [
    "def check_leap_year(year):\n",
    "    if (year % 4) == 0:\n",
    "        if (year % 100) == 0:\n",
    "            if (year % 400) == 0:\n",
    "                return True\n",
    "            else:\n",
    "                return False\n",
    "        else:\n",
    "            return True\n",
    "    else:\n",
    "        return False"
   ]
  },
  {
   "cell_type": "code",
   "execution_count": 4,
   "metadata": {},
   "outputs": [],
   "source": [
    "year_list = [2017, 1900, 2012, 2000, 1111, 1554, 1315, 1342, 1520, 1988, 1834, 1319, 1739, 1846, 1282,\n",
    "       1891, 1260, 1488, 1911, 2009, 1772, 1048, 1428, 1150]"
   ]
  },
  {
   "cell_type": "code",
   "execution_count": 5,
   "metadata": {},
   "outputs": [],
   "source": [
    "with open('leap_year.txt', 'w+') as file:\n",
    "    for year in year_list:\n",
    "        if check_leap_year(year):\n",
    "            file.write(f'{year} is a leap year')\n",
    "        else:\n",
    "            file.write(f'{year} is not a leap year')"
   ]
  },
  {
   "cell_type": "markdown",
   "metadata": {},
   "source": [
    "## Exercise Four"
   ]
  },
  {
   "cell_type": "code",
   "execution_count": 6,
   "metadata": {},
   "outputs": [
    {
     "data": {
      "text/plain": [
       "<matplotlib.collections.PathCollection at 0x112764dd8>"
      ]
     },
     "execution_count": 6,
     "metadata": {},
     "output_type": "execute_result"
    }
   ],
   "source": [
    "import numpy as np\n",
    "import matplotlib.pyplot as plt\n",
    "\n",
    "x, y = np.loadtxt('data/blobs.txt', delimiter='***', unpack=True)\n",
    "\n",
    "plt.scatter(x, y)"
   ]
  },
  {
   "cell_type": "markdown",
   "metadata": {},
   "source": [
    "## Exercise Five"
   ]
  },
  {
   "cell_type": "code",
   "execution_count": 7,
   "metadata": {},
   "outputs": [],
   "source": [
    "import numpy as np\n",
    "import matplotlib.pyplot as plt\n",
    "\n",
    "x = np.linspace(-5, 3)\n",
    "f = lambda x: (1/4)*x**3 + (3/4)*x**2 - (3/2)*x - 2"
   ]
  },
  {
   "cell_type": "code",
   "execution_count": 8,
   "metadata": {},
   "outputs": [],
   "source": [
    "np.savetxt('inclass_data.txt', np.array(list(zip(x, f(x)))))"
   ]
  },
  {
   "cell_type": "markdown",
   "metadata": {},
   "source": [
    "## Exercise Six"
   ]
  },
  {
   "cell_type": "code",
   "execution_count": 9,
   "metadata": {},
   "outputs": [
    {
     "name": "stdout",
     "output_type": "stream",
     "text": [
      "Try to guess my number between 1 and 10\n",
      "Guess: 4\n",
      "Your guess was too low.\n",
      "Guess: 9\n",
      "Your guess was too high.\n",
      "Guess: 7\n",
      "Your guess was too high.\n",
      "Guess: 6\n",
      "You did it! My number was  6\n"
     ]
    }
   ],
   "source": [
    "import numpy as np\n",
    "\n",
    "print('Try to guess my number between 1 and 10')\n",
    "\n",
    "number = np.random.randint(1, 11)\n",
    "guess = None\n",
    "\n",
    "while guess != number:\n",
    "    guess = int(input('Guess: '))\n",
    "\n",
    "    if guess > number:\n",
    "        print('Your guess was too high.')\n",
    "\n",
    "    elif guess < number:\n",
    "        print('Your guess was too low.')\n",
    "\n",
    "    elif guess == number:\n",
    "        print('You did it! My number was ', number)\n"
   ]
  }
 ],
 "metadata": {
  "kernelspec": {
   "display_name": "Python 3",
   "language": "python",
   "name": "python3"
  },
  "language_info": {
   "codemirror_mode": {
    "name": "ipython",
    "version": 3
   },
   "file_extension": ".py",
   "mimetype": "text/x-python",
   "name": "python",
   "nbconvert_exporter": "python",
   "pygments_lexer": "ipython3",
   "version": "3.6.5"
  }
 },
 "nbformat": 4,
 "nbformat_minor": 2
}
