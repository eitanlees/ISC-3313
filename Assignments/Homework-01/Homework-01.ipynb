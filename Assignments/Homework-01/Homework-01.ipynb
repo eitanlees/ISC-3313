{
 "cells": [
  {
   "cell_type": "markdown",
   "metadata": {},
   "source": [
    "# Homework 1\n",
    "\n",
    "In the first two weeks of class we have begun learning about the basic building blocks of Python including:\n",
    "- basic syntax\n",
    "- operators\n",
    "- scalar data types\n",
    "- structured data types\n",
    "\n",
    "This assignment will also involve some basic programming ediquite and debugging. "
   ]
  },
  {
   "cell_type": "markdown",
   "metadata": {},
   "source": [
    "## Question 1:\n",
    "\n",
    "The code snippets below all result in an error. \n",
    "\n",
    "For each example:\n",
    "- Report the error\n",
    "- Explain why it happend\n",
    "- Fix the code"
   ]
  },
  {
   "cell_type": "code",
   "execution_count": 1,
   "metadata": {},
   "outputs": [
    {
     "ename": "SyntaxError",
     "evalue": "Missing parentheses in call to 'print'. Did you mean print(\"e pluribus unum\")? (<ipython-input-1-c35171a27ae4>, line 1)",
     "output_type": "error",
     "traceback": [
      "\u001b[0;36m  File \u001b[0;32m\"<ipython-input-1-c35171a27ae4>\"\u001b[0;36m, line \u001b[0;32m1\u001b[0m\n\u001b[0;31m    print \"e pluribus unum\"\u001b[0m\n\u001b[0m                          ^\u001b[0m\n\u001b[0;31mSyntaxError\u001b[0m\u001b[0;31m:\u001b[0m Missing parentheses in call to 'print'. Did you mean print(\"e pluribus unum\")?\n"
     ]
    }
   ],
   "source": [
    "print \"e pluribus unum\""
   ]
  },
  {
   "cell_type": "markdown",
   "metadata": {},
   "source": [
    "Error: \n",
    "\n",
    "Explaination:"
   ]
  },
  {
   "cell_type": "code",
   "execution_count": 15,
   "metadata": {},
   "outputs": [
    {
     "ename": "NameError",
     "evalue": "name 'group2' is not defined",
     "output_type": "error",
     "traceback": [
      "\u001b[0;31m---------------------------------------------------------------------------\u001b[0m",
      "\u001b[0;31mNameError\u001b[0m                                 Traceback (most recent call last)",
      "\u001b[0;32m<ipython-input-15-88a885696a15>\u001b[0m in \u001b[0;36m<module>\u001b[0;34m()\u001b[0m\n\u001b[1;32m      1\u001b[0m \u001b[0mgroup_1\u001b[0m \u001b[0;34m=\u001b[0m \u001b[0;36m50\u001b[0m\u001b[0;34m\u001b[0m\u001b[0m\n\u001b[1;32m      2\u001b[0m \u001b[0mgroup_2\u001b[0m \u001b[0;34m=\u001b[0m \u001b[0;36m25\u001b[0m\u001b[0;34m\u001b[0m\u001b[0m\n\u001b[0;32m----> 3\u001b[0;31m \u001b[0mtotal\u001b[0m \u001b[0;34m=\u001b[0m \u001b[0mgroup_1\u001b[0m \u001b[0;34m+\u001b[0m \u001b[0mgroup2\u001b[0m\u001b[0;34m\u001b[0m\u001b[0m\n\u001b[0m\u001b[1;32m      4\u001b[0m \u001b[0mprint\u001b[0m\u001b[0;34m(\u001b[0m\u001b[0mtotal\u001b[0m\u001b[0;34m)\u001b[0m\u001b[0;34m\u001b[0m\u001b[0m\n",
      "\u001b[0;31mNameError\u001b[0m: name 'group2' is not defined"
     ]
    }
   ],
   "source": [
    "group_1 = 50\n",
    "group_2 = 25\n",
    "total = group_1 + group2\n",
    "print(total)"
   ]
  },
  {
   "cell_type": "markdown",
   "metadata": {},
   "source": [
    "Error: \n",
    "\n",
    "Explaination:"
   ]
  },
  {
   "cell_type": "code",
   "execution_count": 21,
   "metadata": {},
   "outputs": [
    {
     "ename": "TypeError",
     "evalue": "unsupported operand type(s) for +: 'int' and 'str'",
     "output_type": "error",
     "traceback": [
      "\u001b[0;31m---------------------------------------------------------------------------\u001b[0m",
      "\u001b[0;31mTypeError\u001b[0m                                 Traceback (most recent call last)",
      "\u001b[0;32m<ipython-input-21-51df7dc38e8d>\u001b[0m in \u001b[0;36m<module>\u001b[0;34m()\u001b[0m\n\u001b[0;32m----> 1\u001b[0;31m \u001b[0mname\u001b[0m \u001b[0;34m=\u001b[0m \u001b[0;36m2\u001b[0m \u001b[0;34m+\u001b[0m \u001b[0;34m'chainz'\u001b[0m\u001b[0;34m\u001b[0m\u001b[0m\n\u001b[0m\u001b[1;32m      2\u001b[0m \u001b[0mprint\u001b[0m\u001b[0;34m(\u001b[0m\u001b[0mname\u001b[0m\u001b[0;34m)\u001b[0m\u001b[0;34m\u001b[0m\u001b[0m\n",
      "\u001b[0;31mTypeError\u001b[0m: unsupported operand type(s) for +: 'int' and 'str'"
     ]
    }
   ],
   "source": [
    "name = 2 + 'chainz'\n",
    "print(name)"
   ]
  },
  {
   "cell_type": "markdown",
   "metadata": {},
   "source": [
    "Error: \n",
    "\n",
    "Explaination:"
   ]
  },
  {
   "cell_type": "code",
   "execution_count": 20,
   "metadata": {},
   "outputs": [
    {
     "ename": "IndentationError",
     "evalue": "unindent does not match any outer indentation level (<ipython-input-20-b025b01b4d77>, line 3)",
     "output_type": "error",
     "traceback": [
      "\u001b[0;36m  File \u001b[0;32m\"<ipython-input-20-b025b01b4d77>\"\u001b[0;36m, line \u001b[0;32m3\u001b[0m\n\u001b[0;31m    print(i)\u001b[0m\n\u001b[0m            ^\u001b[0m\n\u001b[0;31mIndentationError\u001b[0m\u001b[0;31m:\u001b[0m unindent does not match any outer indentation level\n"
     ]
    }
   ],
   "source": [
    "for i in range(3):\n",
    "    print('Testing')\n",
    "  print(i)\n",
    "        "
   ]
  },
  {
   "cell_type": "markdown",
   "metadata": {},
   "source": [
    "Error: \n",
    "\n",
    "Explaination:"
   ]
  },
  {
   "cell_type": "markdown",
   "metadata": {},
   "source": [
    "## Question 2:\n",
    "\n",
    "The formula to conver Fahrenheit to Celsius is given by\n",
    "$$ C = \\frac{5}{9}(F - 32) $$\n",
    "\n",
    "Write a code snippet to calculate the temperature in Celsius."
   ]
  },
  {
   "cell_type": "code",
   "execution_count": 5,
   "metadata": {},
   "outputs": [
    {
     "name": "stdout",
     "output_type": "stream",
     "text": [
      "88.0 degrees fahrenheit is 0.0 degrees celsius\n"
     ]
    }
   ],
   "source": [
    "F = 88\n",
    "# Your Code Here #\n",
    "#----------------#\n",
    "C = 0\n",
    "#----------------#\n",
    "print(f'{F:.1f} degrees fahrenheit is {C:.1f} degrees celsius')"
   ]
  },
  {
   "cell_type": "markdown",
   "metadata": {},
   "source": [
    "## Question 3\n",
    "\n",
    "The bell-shaped Gaussian is given by\n",
    "\n",
    "$$ f(x)  = \\frac{1}{\\sqrt{2\\pi}s}\\exp\\left(-\\frac{1}{2}\\left(\\frac{x - m}{s}\\right)^2\\right)$$\n",
    "\n",
    "Given $s$, $m$ and $x$, write a code snippet to evaluate $f(x)$. (Hint: you will need to use the `math` module.)"
   ]
  },
  {
   "cell_type": "code",
   "execution_count": 6,
   "metadata": {
    "collapsed": false
   },
   "outputs": [
    {
     "name": "stdout",
     "output_type": "stream",
     "text": [
      "False\n"
     ]
    }
   ],
   "source": [
    "from math import pi, sqrt, exp\n",
    "\n",
    "x = 1\n",
    "m = 0\n",
    "s = 2\n",
    "\n",
    "# Your Code Here #\n",
    "#----------------#\n",
    "\n",
    "f = False\n",
    "\n",
    "#----------------#\n",
    "\n",
    "print(f)"
   ]
  },
  {
   "cell_type": "markdown",
   "metadata": {},
   "source": [
    "## Question 4\n",
    "\n",
    "DNA can be modeled as a string of characters using the alphabet: `A`, `C`, `G`, and `T`. One form of DNA mutation occurs when a substring of the DNA is reversed during the replication process. Usually, such a reversal occurs between what are termed inverted pairs. For example, if the pattern `TGAA` is later followed by the inverted pattern `AAGT`, it is possible that the slice of DNA delimited by those patterns could be inverted and reattached, since the bonds at each end will be locally the same.\n",
    "\n",
    "An example is shown here.\n",
    "\n",
    "![dna inversion](./images/dna.png)\n",
    "\n",
    "Design a program that works as follows. Given an original DNA string as well as the particular pattern that is inverted, locate the leftmost occurrence of that pattern, and the next subsequent occurrence of the inverted pattern. Print the mutated DNA, with the segment between the inverted pair reversed. Test your code on the example above.\n",
    "\n",
    "This problem is not trivial, but can be done using only string manipulation. Please ask if you need any hints. :-)"
   ]
  },
  {
   "cell_type": "code",
   "execution_count": 1,
   "metadata": {
    "collapsed": false
   },
   "outputs": [
    {
     "name": "stdout",
     "output_type": "stream",
     "text": [
      "TGAACATTAAGT\n",
      "Ellipsis\n"
     ]
    }
   ],
   "source": [
    "dna = \"TGAACATTAAGT\"\n",
    "pattern = \"TGAA\"\n",
    "\n",
    "# invert pattern\n",
    "# HINT: use slicing with negative step size\n",
    "pattern_inv = ...\n",
    "\n",
    "# find end index of first occurence of pattern\n",
    "# HINT: find the index in DNA sequence where pattern starts, then add the length of the pattern\n",
    "index1 = ...\n",
    "\n",
    "# find beginning of first occurence of inverted pattern\n",
    "# HINT: find \n",
    "index2 = ...\n",
    "\n",
    "# concatenate everything together\n",
    "# HINT: mutated DNA will look like:\n",
    "# (dna from 0 up to index1 - 1) + (reverse dna from index1 to index2 - 1) + (dna from index2 to the end)\n",
    "dna_mut = ...\n",
    "\n",
    "# print results\n",
    "print(dna)\n",
    "print(dna_mut)"
   ]
  },
  {
   "cell_type": "code",
   "execution_count": null,
   "metadata": {},
   "outputs": [],
   "source": []
  }
 ],
 "metadata": {
  "kernelspec": {
   "display_name": "Python 3",
   "language": "python",
   "name": "python3"
  },
  "language_info": {
   "codemirror_mode": {
    "name": "ipython",
    "version": 3
   },
   "file_extension": ".py",
   "mimetype": "text/x-python",
   "name": "python",
   "nbconvert_exporter": "python",
   "pygments_lexer": "ipython3",
   "version": "3.6.5"
  }
 },
 "nbformat": 4,
 "nbformat_minor": 2
}
