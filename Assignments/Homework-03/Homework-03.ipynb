{
 "cells": [
  {
   "cell_type": "markdown",
   "metadata": {},
   "source": [
    "# Homework 3"
   ]
  },
  {
   "cell_type": "code",
   "execution_count": 58,
   "metadata": {},
   "outputs": [],
   "source": [
    "import numpy as np\n",
    "import matplotlib.pyplot as plt"
   ]
  },
  {
   "cell_type": "markdown",
   "metadata": {},
   "source": [
    "## Question 1\n",
    "\n",
    "The data below comes from an experiment which is supposed to follow the form\n",
    "\n",
    "$$ f(x) = 4x^2 + 2x - 1 $$\n",
    "\n",
    "but noise causes the data to appear more spread out. "
   ]
  },
  {
   "cell_type": "code",
   "execution_count": 59,
   "metadata": {},
   "outputs": [],
   "source": [
    "x = np.array([-3.        , -2.64285714, -2.28571429, -1.92857143, -1.57142857,\n",
    "       -1.21428571, -0.85714286, -0.5       , -0.14285714,  0.21428571,\n",
    "        0.57142857,  0.92857143,  1.28571429,  1.64285714,  2.        ])\n",
    "\n",
    "y = np.array([29.99342831, 21.37653262, 16.62190769, 13.06646788,  5.26638713,\n",
    "        2.00111384,  3.38291543,  0.53486946, -2.1430304 ,  0.69736499,\n",
    "        0.52214421,  3.37466294,  8.66759801,  9.25507216, 15.55016433])"
   ]
  },
  {
   "cell_type": "markdown",
   "metadata": {},
   "source": [
    "Create an $xy$ scatter plot of the data as well as a dashed line for $f(x)$ on the same plot. \n",
    "\n",
    "Include a legend with the appropriate labels \"Fit\" and \"Data\"."
   ]
  },
  {
   "cell_type": "markdown",
   "metadata": {},
   "source": [
    "## Question 2\n",
    "\n",
    "Create a class based on the UML Diagram. \n",
    "\n",
    "Test the class to show that it is working correctly. \n",
    "\n",
    "Create three students. \n",
    "\n",
    "<div align=\"center\"><img src=\"https://raw.githubusercontent.com/eitanlees/ISC-3313/master/Assignments/Homework-03/UML_diagram.png\"/></div>"
   ]
  },
  {
   "cell_type": "markdown",
   "metadata": {},
   "source": [
    "## Question 3\n",
    "\n",
    "In mathematics, a [_Lissajous curve_](https://en.wikipedia.org/wiki/Lissajous_curve), also known as Lissajous figure or Bowditch curve, is the graph of a system of parametric equations\n",
    "\n",
    "\\begin{align*}\n",
    "x&=A\\sin(a t + \\delta ), \\\\\n",
    "y&=B\\sin(b t)\n",
    "\\end{align*}\n",
    "\n",
    "which describe complex harmonic motion. \n",
    "\n",
    "The appearance of the figure is highly sensitive to the ratio $a/b$. \n",
    "\n",
    "### **A)**: \n",
    "Create a plot of a Lissajous curve (x vs y) from $t=[0, 2\\pi]$ with $a=3$, $b=2$ and $\\delta=\\pi/2$. Set  $A = B = 1$. Make sure to set the axis to have an equal aspect ratio. \n",
    "\n",
    "### **B)**: \n",
    "Create a 4x4 subplot where each subplot contains a Lissajous curve where $a = [1, 2, 3, 4]$ and $b = [1,2,3,4]$. The curves should correspond to the row and column respectively. For example the plot from part 1 would be in the third row, and second column which is axes `ax[2, 1]`. \n",
    "\n",
    "You will want to set a larger figure size. This can be done by passing another argument to the `plt.subplots()` command. Use `figsize = (10,10)`. The `plt.tight_layout()` can be called if needed, and again set the axis to have an equal aspect ratio.\n",
    "\n",
    "### **C)**: \n",
    "In knot theory, a [_Lissajous knot_](https://en.wikipedia.org/wiki/Lissajous_knot) is a knot defined by parametric equations of the form\n",
    "\n",
    "\\begin{align*}\n",
    "x&=\\cos(n_{x}t+\\phi _{x})\\\\ y&=\\cos(n_{y}t+\\phi _{y})\\\\ z&=\\cos(n_{z}t+\\phi _{z})\n",
    "\\end{align*}\n",
    "\n",
    "where $n_{x}$, $n_{y}$, and $n_{z}$ are integers and the phase shifts $\\phi_{x}$, $\\phi_{y}$, and $\\phi_{z}$ may be any real numbers.\n",
    "\n",
    "The projection of a Lissajous knot onto any of the three coordinate planes is a Lissajous curve, and many of the properties of these knots are closely related to properties of Lissajous curves.\n",
    "\n",
    "Create a 3D line plot of a Lissajous knot from $t=[0, 2\\pi]$ where \n",
    "\n",
    "\\begin{align*}\n",
    "(n_{x},n_{y},n_{z})&=(3,4,7)\\\\\n",
    "(\\phi _{x},\\phi _{y},\\phi _{z})&=(0.1,0.7, 0)\n",
    "\\end{align*}\n",
    "\n",
    "Adjust the initial viewing angle using `view_init` and increase the line width. "
   ]
  },
  {
   "cell_type": "markdown",
   "metadata": {},
   "source": [
    "## Question 4\n",
    "\n",
    "Create a class to represent 3D vectors. Such a vector will have the form:\n",
    "$$ \\mathbf{x} = a \\hat{\\mathbf{i}} + b\\hat{\\mathbf{j}} + c\\hat{\\mathbf{k}},$$\n",
    "where $\\hat{\\mathbf{i}}$, $\\hat{\\mathbf{j}}$, $\\hat{\\mathbf{k}}$ are the three cartesian coordinate unit vectors. We can also represent $\\mathbf{x}$ using the notation $\\mathbf{x} = \\langle a,b,c\\rangle$.\n",
    "\n",
    "Recall some definitions:\n",
    "\n",
    "Given two vectors $\\mathbf{x} = \\langle a,b,c\\rangle$ and $\\mathbf{y} = \\langle d,e,f\\rangle$ the following operations are defined:\n",
    "* $\\mathbf{x} + \\mathbf{y} = \\langle a + d, b + e, c + f\\rangle$\n",
    "* $\\mathbf{x} - \\mathbf{y} = \\langle a - d, b - e, c - f\\rangle$\n",
    "* $\\mathbf{x}\\cdot\\mathbf{y} = ad + be + cf$ (dot product)\n",
    "* $\\mathbf{x}\\times\\mathbf{y} = \\langle bf - ec, dc - af, ae - db\\rangle$ (cross product)\n",
    "* $|\\mathbf{x}| = \\sqrt{a^2 + b^2 + c^2}$ (magnitude)\n",
    "\n",
    "Your task will be to define a class `Vector` which contains the following functionality for Vectors `x` and `y`:\n",
    "* addition and subtraction, `x + y`, `x - y`\n",
    "* dot product, `x.dot(y)`\n",
    "* cross product, `x.cross(y)`\n",
    "* magnitude of the vector, `abs(x)`\n",
    "* conversion to string, `str(x)`\n",
    "\n",
    "The string conversion should print out the vector in the following format:\n",
    "\n",
    "     a*i + b*j + c*k\n",
    "     \n",
    "Create an example showing each feature of the `Vector` class."
   ]
  }
 ],
 "metadata": {
  "kernelspec": {
   "display_name": "Python 3",
   "language": "python",
   "name": "python3"
  },
  "language_info": {
   "codemirror_mode": {
    "name": "ipython",
    "version": 3
   },
   "file_extension": ".py",
   "mimetype": "text/x-python",
   "name": "python",
   "nbconvert_exporter": "python",
   "pygments_lexer": "ipython3",
   "version": "3.6.5"
  }
 },
 "nbformat": 4,
 "nbformat_minor": 2
}
