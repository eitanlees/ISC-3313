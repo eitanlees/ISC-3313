{
 "cells": [
  {
   "cell_type": "markdown",
   "metadata": {},
   "source": [
    "# Homework 2"
   ]
  },
  {
   "cell_type": "code",
   "execution_count": 1,
   "metadata": {},
   "outputs": [],
   "source": [
    "import numpy as np"
   ]
  },
  {
   "cell_type": "markdown",
   "metadata": {},
   "source": [
    "## Question 1 (Numpy Arrays):\n",
    "\n",
    "**A)** Create a zero vector of size 10 with the fifth value set to 1\n",
    "\n",
    "**B)** Create a 3x4 matrix with the integers 1 to 12. (Use `arange` and `reshape`.)\n",
    "\n",
    "**C)** Create an $n\\times n$ 2D array that contains 1s along the edges and 0s everywhere else. \n",
    "\n",
    "For example the $n=4$ array looks like:\n",
    "\n",
    "$$ \\begin{bmatrix} 1 & 1 & 1 & 1\\\\ 1 & 0 & 0 & 1\\\\1 & 0 & 0 & 1\\\\1 & 1 & 1& 1\\end{bmatrix} $$\n",
    "\n",
    "Create a similar array with $n = 10$. \n",
    "\n",
    "Your code should be dynamic and not hard coded. \n"
   ]
  },
  {
   "cell_type": "markdown",
   "metadata": {},
   "source": [
    "## Question 2 (Vector Operations):\n",
    "\n",
    "**A)** Create an array which contains the powers of two from $2^1$ through $2^{11}$ (Use `arange` and exponent operator)\n",
    "\n",
    "**B)** Write a code fragment that computes the total average value of a 2D array. Test it on the array:\n",
    "\n",
    "$$\\begin{bmatrix} 0.1 & 0.8 & 0.8\\\\0.2 & 0.4 & 1.1\\\\ 1.3 & 0.9 & 1.1\\end{bmatrix}$$\n",
    "\n",
    "\n",
    "**C)**  Write a code fragment that computes the average of each column in the above array. Do not hard code in the number of rows. Your code should work for a 2D array of any size."
   ]
  },
  {
   "cell_type": "markdown",
   "metadata": {},
   "source": [
    "## Question 3 (Linear Interpolation):\n",
    "\n",
    "### Background\n",
    "\n",
    "Imagine we performed an experiment and gathered the following data\n",
    "\n",
    "<center><img src=\"https://raw.githubusercontent.com/eitanlees/ISC-3313/assignments/Assignments/Homework-02/images/data.png\"/>) </center>"
   ]
  },
  {
   "cell_type": "code",
   "execution_count": 2,
   "metadata": {},
   "outputs": [],
   "source": [
    "xn = np.array([0.        , 0.62831853, \n",
    "              1.25663706, 1.88495559, \n",
    "              2.51327412, 3.14159265, \n",
    "              3.76991118, 4.39822972, \n",
    "              5.02654825, 5.65486678,\n",
    "              6.28318531])\n",
    "\n",
    "yn = np.array([0.            ,  5.87785252e-01,  \n",
    "              9.51056516e-01,  9.51056516e-01, \n",
    "              5.87785252e-01,  1.22464680e-16, \n",
    "              -5.87785252e-01, -9.51056516e-01,\n",
    "              -9.51056516e-01, -5.87785252e-01, \n",
    "              -2.44929360e-16])"
   ]
  },
  {
   "cell_type": "markdown",
   "metadata": {},
   "source": [
    "We only have these 11 points, but we can see that the data varies smoothly.\n",
    "\n",
    "Now we are interested in a value that is in between these measured points. \n",
    "\n",
    "The simplest and quite often an entirely adequate assumption to make is that the actual function varies linearly between the known values. \n",
    "\n",
    "This is the basis of **linear interpolation**.\n",
    "\n",
    "<center><img src=\"https://raw.githubusercontent.com/eitanlees/ISC-3313/assignments/Assignments/Homework-02/images/data_with_line.png\"/>)</center>\n",
    "\n",
    "Let us suppose that the function is known at $N$ points \n",
    "and takes on the values $y_1,\\,y_2,\\,y_3, \\dots, y_N$ at the points \n",
    "$x_1,\\,x_2,\\,x_3, \\dots, x_N$, and that we want to find the value \n",
    "of the function $y$ at a point $x$ that lies someplace in the interval between $x_1$ and $x_N$.\n",
    "\n",
    "The first thing that we must do is to **bracket** $x$, \n",
    "that is we must find a $j$ such that $x_j < x \\leq x_{j+1}$. \n",
    "\n",
    "For example if we are interested in the value at $x=3.5$ we could bracket $x$ using following code fragment:\n"
   ]
  },
  {
   "cell_type": "code",
   "execution_count": 3,
   "metadata": {},
   "outputs": [
    {
     "name": "stdout",
     "output_type": "stream",
     "text": [
      "5\n"
     ]
    }
   ],
   "source": [
    "x = 3.5\n",
    "\n",
    "for i in range(len(xn) - 1):\n",
    "    if xn[i] < x <= xn[i+1]:\n",
    "        j = i\n",
    "        break\n",
    "        \n",
    "print(j)"
   ]
  },
  {
   "cell_type": "markdown",
   "metadata": {},
   "source": [
    "We can confirm that $x=3.5$ is between index 5 and 6.\n",
    "\n",
    "Once we have bracketed $x$, we can find the equation of the line between the points $(x_j,y_j)$ and $(x_{j+1},y_{j+1})$. \n",
    "\n",
    "The equation joining these points can be written as \n",
    "\n",
    "$$\n",
    "y = Ay_i + By_{j+1}\n",
    "$$\n",
    "where\n",
    "$$\n",
    "A = \\frac{x_{j+1} - x}{x_{j+1} - x_j}\n",
    "$$\n",
    "and\n",
    "$$\n",
    "B = \\frac{x - x_j}{x_{j+1} - x_j}\n",
    "$$"
   ]
  },
  {
   "cell_type": "markdown",
   "metadata": {},
   "source": [
    "### Objective\n",
    "\n",
    "Write a function called `linear_interpolation` which takes three variables:\n",
    "\n",
    "- `x`: The point of interest\n",
    "- `xn`: The known x points\n",
    "- `yn`: The known y points\n",
    "\n",
    "and returns the value of $y$ at $x$. \n",
    "\n",
    "You will first have to bracket $x$ and then use the index to calculate $y$.\n",
    "\n",
    "\n",
    "### Test\n",
    "\n",
    "Check your work using the data from above. \n",
    "\n",
    "At $x=2.1$, the value of $y$ should be close to $0.8267$"
   ]
  },
  {
   "cell_type": "markdown",
   "metadata": {},
   "source": [
    "## Question 4 (Root Finding):\n",
    "\n",
    "### Background\n",
    "\n",
    "The need to determine the roots of a function - i.e. where that function crosses the x-axis - is a recurring problem in scientific computing. All of you know how to find analytically the roots of a parabola. For more complex functions, it may not be possible or easy to find the roots analytically, and so it is necessary to use numerical methods.\n",
    "\n",
    "The function, for instance, may be given to us as a \"black box\" - it may be in tabular form, or given to us as a python function, or it may be known only through a recursion equation. In such a case, the appropriate method would be to more and more closely bracket the root until we know it to the precision that we desire.\n",
    "\n",
    "We will approach this task using the **method of bisection**.\n",
    "\n",
    "<center><img src=\"https://raw.githubusercontent.com/eitanlees/ISC-3313/assignments/Assignments/Homework-02/images/bisection.png\"/></center>\n",
    "\n",
    "If we know that a root is in $(a,b)$ because $f(a)$ has a different sign from $f(b)$, then evaluate the function $f$ at the midpoint of the interval, $(a + b)/2$ and examine its sign. \n",
    "\n",
    "Replace whichever limit (e.g. $a$ or $b$) that has the same sign. \n",
    "\n",
    "Repeat the process until the interval is so small that we know the location of the root to the desired accuracy.\n",
    "\n",
    "Let us suppose that our $n - 1^{th}$ and $n^{th}$ evaluations of the midpoint are $x_{n-1}$ and $x_n$ and that the root was initially in the interval $(a,b)$. We would then be justified in stopping our search if $\\vert x_n - x_{n-1} \\vert < \\epsilon \\cdot \\vert b - a \\vert$"
   ]
  },
  {
   "cell_type": "markdown",
   "metadata": {},
   "source": [
    "### Objective \n",
    "\n",
    "Write a function `bisection_method` which has four variables:\n",
    "\n",
    "- `f`: The function we want to find the root of\n",
    "- `a`: The value of the left bracket\n",
    "- `b`: The value of the right bracket\n",
    "- `epsilon`: The desired accuracy. Set the default to 1e-6\n",
    "\n",
    "You will want to use a while loop to iterate until the interval is small enough. \n",
    "\n",
    "The `np.sign` function will also be useful. "
   ]
  },
  {
   "cell_type": "markdown",
   "metadata": {},
   "source": [
    "### Test\n",
    "\n",
    "The polynomial $f(x) = 5 x^2 + 9 x - 80$ has a root in the interval $(3,4)$. \n",
    "\n",
    "Find the root using your function from above."
   ]
  }
 ],
 "metadata": {
  "kernelspec": {
   "display_name": "Python 3",
   "language": "python",
   "name": "python3"
  },
  "language_info": {
   "codemirror_mode": {
    "name": "ipython",
    "version": 3
   },
   "file_extension": ".py",
   "mimetype": "text/x-python",
   "name": "python",
   "nbconvert_exporter": "python",
   "pygments_lexer": "ipython3",
   "version": "3.6.5"
  }
 },
 "nbformat": 4,
 "nbformat_minor": 2
}
