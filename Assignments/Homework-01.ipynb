{
 "cells": [
  {
   "cell_type": "markdown",
   "metadata": {},
   "source": [
    "# Homework 1\n",
    "\n",
    "In the first two weeks of class we have begun learning about the basic building blocks of Python including:\n",
    "- basic syntax\n",
    "- operators\n",
    "- scalar data types\n",
    "- structured data types\n",
    "\n",
    "This assignment will also involve some basic programming ediquite and debugging. "
   ]
  },
  {
   "cell_type": "markdown",
   "metadata": {},
   "source": [
    "## Question 1:\n",
    "\n",
    "The code snippets below all result in an error. \n",
    "\n",
    "For each example:\n",
    "- Report the error\n",
    "- Explain why it happend\n",
    "- Fix the code"
   ]
  },
  {
   "cell_type": "code",
   "execution_count": null,
   "metadata": {},
   "outputs": [],
   "source": [
    "print \"e pluribus unum\""
   ]
  },
  {
   "cell_type": "markdown",
   "metadata": {},
   "source": [
    "Error: \n",
    "\n",
    "Explaination:"
   ]
  },
  {
   "cell_type": "code",
   "execution_count": null,
   "metadata": {},
   "outputs": [],
   "source": [
    "group_1 = 50\n",
    "group_2 = 25\n",
    "total = group_1 + group2\n",
    "print(total)"
   ]
  },
  {
   "cell_type": "markdown",
   "metadata": {},
   "source": [
    "Error: \n",
    "\n",
    "Explaination:"
   ]
  },
  {
   "cell_type": "code",
   "execution_count": null,
   "metadata": {},
   "outputs": [],
   "source": [
    "name = 2 + 'chainz'\n",
    "print(name)"
   ]
  },
  {
   "cell_type": "markdown",
   "metadata": {},
   "source": [
    "Error: \n",
    "\n",
    "Explaination:"
   ]
  },
  {
   "cell_type": "code",
   "execution_count": null,
   "metadata": {},
   "outputs": [],
   "source": [
    "for i in range(3):\n",
    "    print('Testing')\n",
    "  print(i)\n",
    "        "
   ]
  },
  {
   "cell_type": "markdown",
   "metadata": {},
   "source": [
    "Error: \n",
    "\n",
    "Explaination:"
   ]
  },
  {
   "cell_type": "markdown",
   "metadata": {},
   "source": [
    "## Question 2:\n",
    "\n",
    "The formula to convert Fahrenheit to Celsius is given by\n",
    "$$ C = \\frac{5}{9}(F - 32) $$\n",
    "\n",
    "Write a code snippet to calculate the temperature in Celsius."
   ]
  },
  {
   "cell_type": "code",
   "execution_count": null,
   "metadata": {},
   "outputs": [],
   "source": [
    "F = 88\n",
    "# Your Code Here #\n",
    "#----------------#\n",
    "C = 0\n",
    "#----------------#\n",
    "print(f'{F:.1f} degrees fahrenheit is {C:.1f} degrees celsius')"
   ]
  },
  {
   "cell_type": "markdown",
   "metadata": {},
   "source": [
    "## Question 3\n",
    "\n",
    "The bell-shaped Gaussian is given by\n",
    "\n",
    "$$ f(x)  = \\frac{1}{\\sqrt{2\\pi}s}\\exp\\left(-\\frac{1}{2}\\left(\\frac{x - m}{s}\\right)^2\\right)$$\n",
    "\n",
    "Given $s$, $m$ and $x$, write a code snippet to evaluate $f(x)$."
   ]
  },
  {
   "cell_type": "code",
   "execution_count": null,
   "metadata": {},
   "outputs": [],
   "source": [
    "from math import pi, sqrt, exp\n",
    "\n",
    "x = 1\n",
    "m = 0\n",
    "s = 2\n",
    "\n",
    "# Your Code Here #\n",
    "#----------------#\n",
    "\n",
    "f = False\n",
    "\n",
    "#----------------#\n",
    "\n",
    "print(f)"
   ]
  },
  {
   "cell_type": "markdown",
   "metadata": {},
   "source": [
    "## Question 4\n",
    "\n",
    "DNA can be modeled as a string of characters using the alphabet: `A`, `C`, `G`, and `T`. One form of DNA mutation occurs when a substring of the DNA is reversed during the replication process. Usually, such a reversal occurs between what are termed inverted pairs. For example, if the pattern `TGAA` is later followed by the inverted pattern `AAGT`, it is possible that the slice of DNA delimited by those patterns could be inverted and reattached, since the bonds at each end will be locally the same.\n",
    "\n",
    "An example is shown here.\n",
    "\n",
    "<div align=\"center\"><img src=\"https://raw.githubusercontent.com/eitanlees/ISC-3313/master/images/dna.png\" width=\"300\"/></div>\n",
    "\n",
    "Design a program that works as follows. \n",
    "\n",
    "Given an original DNA string as well as the particular pattern \n",
    "\n",
    "1. Invert the pattern\n",
    "\n",
    "2. Locate the leftmost occurrence of that pattern, and the next subsequent occurrence of the inverted pattern. \n",
    "\n",
    "3. Print the mutated DNA, with the segment between the inverted pair reversed. \n",
    "\n",
    "Test your code on the example above.\n",
    "\n",
    "This problem is not trivial, but can be done using only string manipulation. Feel free to break up this code cell into multiple cells if needed. \n",
    "\n",
    "Please ask if you need any hints.\n",
    "\n",
    "**Do not hard code specific numbers** such as `dna[0:4]`. Instead use the variables to do the indexing like `dna[0:index1]` "
   ]
  },
  {
   "cell_type": "code",
   "execution_count": null,
   "metadata": {},
   "outputs": [],
   "source": [
    "dna  =  \"TGAACATTAAGT\"\n",
    "pattern = \"TGAA\"\n",
    "\n",
    "# invert pattern\n",
    "# HINT: use slicing with negative step size\n",
    "pattern_inv = ...\n",
    "\n",
    "# find end index of first occurence of pattern\n",
    "# HINT: use the find() method to find the index in DNA sequence where pattern starts, \n",
    "# then add the length of the pattern\n",
    "index1 = ...\n",
    "\n",
    "# find beginning of first occurence of inverted pattern\n",
    "# HINT: Again use the find() method \n",
    "index2 = ...\n",
    "\n",
    "# concatenate everything together\n",
    "# HINT: mutated DNA will look like:\n",
    "# (dna from 0 up to index1 - 1) + (reverse dna from index1 to index2 - 1) + (dna from index2 to the end)\n",
    "dna_mut = ...\n",
    "\n",
    "# print results\n",
    "print(dna)\n",
    "print(dna_mut)"
   ]
  }
 ],
 "metadata": {
  "kernel_info": {
   "name": "python3"
  },
  "kernelspec": {
   "display_name": "Python 3",
   "language": "python",
   "name": "python3"
  },
  "language_info": {
   "codemirror_mode": {
    "name": "ipython",
    "version": 3
   },
   "file_extension": ".py",
   "mimetype": "text/x-python",
   "name": "python",
   "nbconvert_exporter": "python",
   "pygments_lexer": "ipython3",
   "version": "3.6.7"
  },
  "nteract": {
   "version": "0.8.4"
  }
 },
 "nbformat": 4,
 "nbformat_minor": 2
}
